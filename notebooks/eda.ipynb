{
 "cells": [
  {
   "cell_type": "code",
   "execution_count": 1,
   "id": "95142716-b5d2-40ce-9cef-5b5e85dd9c98",
   "metadata": {},
   "outputs": [],
   "source": [
    "import pandas as pd\n",
    "import numpy as np"
   ]
  },
  {
   "cell_type": "code",
   "execution_count": 64,
   "id": "2b1c848c-b6a6-4db0-9439-b586fa6e4bda",
   "metadata": {},
   "outputs": [],
   "source": [
    "pd.set_option('display.max_columns',None)\n",
    "pd.set_option('display.max_rows',None)"
   ]
  },
  {
   "cell_type": "code",
   "execution_count": 2,
   "id": "0f3dfa8b-2d6d-4098-a16a-d4782bd93f9e",
   "metadata": {},
   "outputs": [],
   "source": [
    "df1=pd.read_excel(r'../data/raw/case_study1.xlsx')\n",
    "df2=pd.read_excel(r'../data/raw/case_study2.xlsx')"
   ]
  },
  {
   "cell_type": "code",
   "execution_count": 3,
   "id": "d047416d-e906-477c-b183-b209f2e10368",
   "metadata": {},
   "outputs": [
    {
     "data": {
      "text/html": [
       "<div>\n",
       "<style scoped>\n",
       "    .dataframe tbody tr th:only-of-type {\n",
       "        vertical-align: middle;\n",
       "    }\n",
       "\n",
       "    .dataframe tbody tr th {\n",
       "        vertical-align: top;\n",
       "    }\n",
       "\n",
       "    .dataframe thead th {\n",
       "        text-align: right;\n",
       "    }\n",
       "</style>\n",
       "<table border=\"1\" class=\"dataframe\">\n",
       "  <thead>\n",
       "    <tr style=\"text-align: right;\">\n",
       "      <th></th>\n",
       "      <th>PROSPECTID</th>\n",
       "      <th>Total_TL</th>\n",
       "      <th>Tot_Closed_TL</th>\n",
       "      <th>Tot_Active_TL</th>\n",
       "      <th>Total_TL_opened_L6M</th>\n",
       "      <th>Tot_TL_closed_L6M</th>\n",
       "      <th>pct_tl_open_L6M</th>\n",
       "      <th>pct_tl_closed_L6M</th>\n",
       "      <th>pct_active_tl</th>\n",
       "      <th>pct_closed_tl</th>\n",
       "      <th>...</th>\n",
       "      <th>CC_TL</th>\n",
       "      <th>Consumer_TL</th>\n",
       "      <th>Gold_TL</th>\n",
       "      <th>Home_TL</th>\n",
       "      <th>PL_TL</th>\n",
       "      <th>Secured_TL</th>\n",
       "      <th>Unsecured_TL</th>\n",
       "      <th>Other_TL</th>\n",
       "      <th>Age_Oldest_TL</th>\n",
       "      <th>Age_Newest_TL</th>\n",
       "    </tr>\n",
       "  </thead>\n",
       "  <tbody>\n",
       "    <tr>\n",
       "      <th>0</th>\n",
       "      <td>1</td>\n",
       "      <td>5</td>\n",
       "      <td>4</td>\n",
       "      <td>1</td>\n",
       "      <td>0</td>\n",
       "      <td>0</td>\n",
       "      <td>0.000</td>\n",
       "      <td>0.0</td>\n",
       "      <td>0.200</td>\n",
       "      <td>0.800</td>\n",
       "      <td>...</td>\n",
       "      <td>0</td>\n",
       "      <td>0</td>\n",
       "      <td>1</td>\n",
       "      <td>0</td>\n",
       "      <td>4</td>\n",
       "      <td>1</td>\n",
       "      <td>4</td>\n",
       "      <td>0</td>\n",
       "      <td>72</td>\n",
       "      <td>18</td>\n",
       "    </tr>\n",
       "    <tr>\n",
       "      <th>1</th>\n",
       "      <td>2</td>\n",
       "      <td>1</td>\n",
       "      <td>0</td>\n",
       "      <td>1</td>\n",
       "      <td>0</td>\n",
       "      <td>0</td>\n",
       "      <td>0.000</td>\n",
       "      <td>0.0</td>\n",
       "      <td>1.000</td>\n",
       "      <td>0.000</td>\n",
       "      <td>...</td>\n",
       "      <td>0</td>\n",
       "      <td>1</td>\n",
       "      <td>0</td>\n",
       "      <td>0</td>\n",
       "      <td>0</td>\n",
       "      <td>0</td>\n",
       "      <td>1</td>\n",
       "      <td>0</td>\n",
       "      <td>7</td>\n",
       "      <td>7</td>\n",
       "    </tr>\n",
       "    <tr>\n",
       "      <th>2</th>\n",
       "      <td>3</td>\n",
       "      <td>8</td>\n",
       "      <td>0</td>\n",
       "      <td>8</td>\n",
       "      <td>1</td>\n",
       "      <td>0</td>\n",
       "      <td>0.125</td>\n",
       "      <td>0.0</td>\n",
       "      <td>1.000</td>\n",
       "      <td>0.000</td>\n",
       "      <td>...</td>\n",
       "      <td>0</td>\n",
       "      <td>6</td>\n",
       "      <td>1</td>\n",
       "      <td>0</td>\n",
       "      <td>0</td>\n",
       "      <td>2</td>\n",
       "      <td>6</td>\n",
       "      <td>0</td>\n",
       "      <td>47</td>\n",
       "      <td>2</td>\n",
       "    </tr>\n",
       "    <tr>\n",
       "      <th>3</th>\n",
       "      <td>4</td>\n",
       "      <td>1</td>\n",
       "      <td>0</td>\n",
       "      <td>1</td>\n",
       "      <td>1</td>\n",
       "      <td>0</td>\n",
       "      <td>1.000</td>\n",
       "      <td>0.0</td>\n",
       "      <td>1.000</td>\n",
       "      <td>0.000</td>\n",
       "      <td>...</td>\n",
       "      <td>0</td>\n",
       "      <td>0</td>\n",
       "      <td>0</td>\n",
       "      <td>0</td>\n",
       "      <td>0</td>\n",
       "      <td>0</td>\n",
       "      <td>1</td>\n",
       "      <td>1</td>\n",
       "      <td>5</td>\n",
       "      <td>5</td>\n",
       "    </tr>\n",
       "    <tr>\n",
       "      <th>4</th>\n",
       "      <td>5</td>\n",
       "      <td>3</td>\n",
       "      <td>2</td>\n",
       "      <td>1</td>\n",
       "      <td>0</td>\n",
       "      <td>0</td>\n",
       "      <td>0.000</td>\n",
       "      <td>0.0</td>\n",
       "      <td>0.333</td>\n",
       "      <td>0.667</td>\n",
       "      <td>...</td>\n",
       "      <td>0</td>\n",
       "      <td>0</td>\n",
       "      <td>0</td>\n",
       "      <td>0</td>\n",
       "      <td>0</td>\n",
       "      <td>3</td>\n",
       "      <td>0</td>\n",
       "      <td>2</td>\n",
       "      <td>131</td>\n",
       "      <td>32</td>\n",
       "    </tr>\n",
       "  </tbody>\n",
       "</table>\n",
       "<p>5 rows × 26 columns</p>\n",
       "</div>"
      ],
      "text/plain": [
       "   PROSPECTID  Total_TL  Tot_Closed_TL  Tot_Active_TL  Total_TL_opened_L6M  \\\n",
       "0           1         5              4              1                    0   \n",
       "1           2         1              0              1                    0   \n",
       "2           3         8              0              8                    1   \n",
       "3           4         1              0              1                    1   \n",
       "4           5         3              2              1                    0   \n",
       "\n",
       "   Tot_TL_closed_L6M  pct_tl_open_L6M  pct_tl_closed_L6M  pct_active_tl  \\\n",
       "0                  0            0.000                0.0          0.200   \n",
       "1                  0            0.000                0.0          1.000   \n",
       "2                  0            0.125                0.0          1.000   \n",
       "3                  0            1.000                0.0          1.000   \n",
       "4                  0            0.000                0.0          0.333   \n",
       "\n",
       "   pct_closed_tl  ...  CC_TL  Consumer_TL  Gold_TL  Home_TL  PL_TL  \\\n",
       "0          0.800  ...      0            0        1        0      4   \n",
       "1          0.000  ...      0            1        0        0      0   \n",
       "2          0.000  ...      0            6        1        0      0   \n",
       "3          0.000  ...      0            0        0        0      0   \n",
       "4          0.667  ...      0            0        0        0      0   \n",
       "\n",
       "   Secured_TL  Unsecured_TL  Other_TL  Age_Oldest_TL  Age_Newest_TL  \n",
       "0           1             4         0             72             18  \n",
       "1           0             1         0              7              7  \n",
       "2           2             6         0             47              2  \n",
       "3           0             1         1              5              5  \n",
       "4           3             0         2            131             32  \n",
       "\n",
       "[5 rows x 26 columns]"
      ]
     },
     "execution_count": 3,
     "metadata": {},
     "output_type": "execute_result"
    }
   ],
   "source": [
    "df1.head()"
   ]
  },
  {
   "cell_type": "code",
   "execution_count": 4,
   "id": "13e69d99",
   "metadata": {},
   "outputs": [
    {
     "data": {
      "text/html": [
       "<div>\n",
       "<style scoped>\n",
       "    .dataframe tbody tr th:only-of-type {\n",
       "        vertical-align: middle;\n",
       "    }\n",
       "\n",
       "    .dataframe tbody tr th {\n",
       "        vertical-align: top;\n",
       "    }\n",
       "\n",
       "    .dataframe thead th {\n",
       "        text-align: right;\n",
       "    }\n",
       "</style>\n",
       "<table border=\"1\" class=\"dataframe\">\n",
       "  <thead>\n",
       "    <tr style=\"text-align: right;\">\n",
       "      <th></th>\n",
       "      <th>PROSPECTID</th>\n",
       "      <th>time_since_recent_payment</th>\n",
       "      <th>time_since_first_deliquency</th>\n",
       "      <th>time_since_recent_deliquency</th>\n",
       "      <th>num_times_delinquent</th>\n",
       "      <th>max_delinquency_level</th>\n",
       "      <th>max_recent_level_of_deliq</th>\n",
       "      <th>num_deliq_6mts</th>\n",
       "      <th>num_deliq_12mts</th>\n",
       "      <th>num_deliq_6_12mts</th>\n",
       "      <th>...</th>\n",
       "      <th>pct_CC_enq_L6m_of_L12m</th>\n",
       "      <th>pct_PL_enq_L6m_of_ever</th>\n",
       "      <th>pct_CC_enq_L6m_of_ever</th>\n",
       "      <th>max_unsec_exposure_inPct</th>\n",
       "      <th>HL_Flag</th>\n",
       "      <th>GL_Flag</th>\n",
       "      <th>last_prod_enq2</th>\n",
       "      <th>first_prod_enq2</th>\n",
       "      <th>Credit_Score</th>\n",
       "      <th>Approved_Flag</th>\n",
       "    </tr>\n",
       "  </thead>\n",
       "  <tbody>\n",
       "    <tr>\n",
       "      <th>0</th>\n",
       "      <td>1</td>\n",
       "      <td>549</td>\n",
       "      <td>35</td>\n",
       "      <td>15</td>\n",
       "      <td>11</td>\n",
       "      <td>29</td>\n",
       "      <td>29</td>\n",
       "      <td>0</td>\n",
       "      <td>0</td>\n",
       "      <td>0</td>\n",
       "      <td>...</td>\n",
       "      <td>0.0</td>\n",
       "      <td>0.0</td>\n",
       "      <td>0.0</td>\n",
       "      <td>13.333</td>\n",
       "      <td>1</td>\n",
       "      <td>0</td>\n",
       "      <td>PL</td>\n",
       "      <td>PL</td>\n",
       "      <td>696</td>\n",
       "      <td>P2</td>\n",
       "    </tr>\n",
       "    <tr>\n",
       "      <th>1</th>\n",
       "      <td>2</td>\n",
       "      <td>47</td>\n",
       "      <td>-99999</td>\n",
       "      <td>-99999</td>\n",
       "      <td>0</td>\n",
       "      <td>-99999</td>\n",
       "      <td>0</td>\n",
       "      <td>0</td>\n",
       "      <td>0</td>\n",
       "      <td>0</td>\n",
       "      <td>...</td>\n",
       "      <td>0.0</td>\n",
       "      <td>0.0</td>\n",
       "      <td>0.0</td>\n",
       "      <td>0.860</td>\n",
       "      <td>0</td>\n",
       "      <td>0</td>\n",
       "      <td>ConsumerLoan</td>\n",
       "      <td>ConsumerLoan</td>\n",
       "      <td>685</td>\n",
       "      <td>P2</td>\n",
       "    </tr>\n",
       "    <tr>\n",
       "      <th>2</th>\n",
       "      <td>3</td>\n",
       "      <td>302</td>\n",
       "      <td>11</td>\n",
       "      <td>3</td>\n",
       "      <td>9</td>\n",
       "      <td>25</td>\n",
       "      <td>25</td>\n",
       "      <td>1</td>\n",
       "      <td>9</td>\n",
       "      <td>8</td>\n",
       "      <td>...</td>\n",
       "      <td>0.0</td>\n",
       "      <td>0.0</td>\n",
       "      <td>0.0</td>\n",
       "      <td>5741.667</td>\n",
       "      <td>1</td>\n",
       "      <td>0</td>\n",
       "      <td>ConsumerLoan</td>\n",
       "      <td>others</td>\n",
       "      <td>693</td>\n",
       "      <td>P2</td>\n",
       "    </tr>\n",
       "    <tr>\n",
       "      <th>3</th>\n",
       "      <td>4</td>\n",
       "      <td>-99999</td>\n",
       "      <td>-99999</td>\n",
       "      <td>-99999</td>\n",
       "      <td>0</td>\n",
       "      <td>-99999</td>\n",
       "      <td>0</td>\n",
       "      <td>0</td>\n",
       "      <td>0</td>\n",
       "      <td>0</td>\n",
       "      <td>...</td>\n",
       "      <td>0.0</td>\n",
       "      <td>0.0</td>\n",
       "      <td>0.0</td>\n",
       "      <td>9.900</td>\n",
       "      <td>0</td>\n",
       "      <td>0</td>\n",
       "      <td>others</td>\n",
       "      <td>others</td>\n",
       "      <td>673</td>\n",
       "      <td>P2</td>\n",
       "    </tr>\n",
       "    <tr>\n",
       "      <th>4</th>\n",
       "      <td>5</td>\n",
       "      <td>583</td>\n",
       "      <td>-99999</td>\n",
       "      <td>-99999</td>\n",
       "      <td>0</td>\n",
       "      <td>-99999</td>\n",
       "      <td>0</td>\n",
       "      <td>0</td>\n",
       "      <td>0</td>\n",
       "      <td>0</td>\n",
       "      <td>...</td>\n",
       "      <td>0.0</td>\n",
       "      <td>0.0</td>\n",
       "      <td>0.0</td>\n",
       "      <td>-99999.000</td>\n",
       "      <td>0</td>\n",
       "      <td>0</td>\n",
       "      <td>AL</td>\n",
       "      <td>AL</td>\n",
       "      <td>753</td>\n",
       "      <td>P1</td>\n",
       "    </tr>\n",
       "  </tbody>\n",
       "</table>\n",
       "<p>5 rows × 62 columns</p>\n",
       "</div>"
      ],
      "text/plain": [
       "   PROSPECTID  time_since_recent_payment  time_since_first_deliquency  \\\n",
       "0           1                        549                           35   \n",
       "1           2                         47                       -99999   \n",
       "2           3                        302                           11   \n",
       "3           4                     -99999                       -99999   \n",
       "4           5                        583                       -99999   \n",
       "\n",
       "   time_since_recent_deliquency  num_times_delinquent  max_delinquency_level  \\\n",
       "0                            15                    11                     29   \n",
       "1                        -99999                     0                 -99999   \n",
       "2                             3                     9                     25   \n",
       "3                        -99999                     0                 -99999   \n",
       "4                        -99999                     0                 -99999   \n",
       "\n",
       "   max_recent_level_of_deliq  num_deliq_6mts  num_deliq_12mts  \\\n",
       "0                         29               0                0   \n",
       "1                          0               0                0   \n",
       "2                         25               1                9   \n",
       "3                          0               0                0   \n",
       "4                          0               0                0   \n",
       "\n",
       "   num_deliq_6_12mts  ...  pct_CC_enq_L6m_of_L12m  pct_PL_enq_L6m_of_ever  \\\n",
       "0                  0  ...                     0.0                     0.0   \n",
       "1                  0  ...                     0.0                     0.0   \n",
       "2                  8  ...                     0.0                     0.0   \n",
       "3                  0  ...                     0.0                     0.0   \n",
       "4                  0  ...                     0.0                     0.0   \n",
       "\n",
       "   pct_CC_enq_L6m_of_ever  max_unsec_exposure_inPct  HL_Flag  GL_Flag  \\\n",
       "0                     0.0                    13.333        1        0   \n",
       "1                     0.0                     0.860        0        0   \n",
       "2                     0.0                  5741.667        1        0   \n",
       "3                     0.0                     9.900        0        0   \n",
       "4                     0.0                -99999.000        0        0   \n",
       "\n",
       "   last_prod_enq2  first_prod_enq2  Credit_Score  Approved_Flag  \n",
       "0              PL               PL           696             P2  \n",
       "1    ConsumerLoan     ConsumerLoan           685             P2  \n",
       "2    ConsumerLoan           others           693             P2  \n",
       "3          others           others           673             P2  \n",
       "4              AL               AL           753             P1  \n",
       "\n",
       "[5 rows x 62 columns]"
      ]
     },
     "execution_count": 4,
     "metadata": {},
     "output_type": "execute_result"
    }
   ],
   "source": [
    "df2.head()"
   ]
  },
  {
   "cell_type": "code",
   "execution_count": 5,
   "id": "1122ee80-c888-466b-9408-6585c99c3057",
   "metadata": {},
   "outputs": [
    {
     "data": {
      "text/plain": [
       "((51336, 26), (51336, 62))"
      ]
     },
     "execution_count": 5,
     "metadata": {},
     "output_type": "execute_result"
    }
   ],
   "source": [
    "df1.shape, df2.shape"
   ]
  },
  {
   "cell_type": "code",
   "execution_count": 6,
   "id": "9e5cf8d3-7eda-48b5-baff-7c0a86afae92",
   "metadata": {},
   "outputs": [
    {
     "name": "stdout",
     "output_type": "stream",
     "text": [
      "Approved_Flag\n",
      "P1     5803\n",
      "P2    32199\n",
      "P3     7452\n",
      "P4     5882\n",
      "Name: count, dtype: int64\n"
     ]
    }
   ],
   "source": [
    "print(df2['Approved_Flag'].value_counts().sort_index())"
   ]
  },
  {
   "cell_type": "markdown",
   "id": "dd0a7046-5881-477b-bb8d-57600378dfc3",
   "metadata": {},
   "source": [
    "### Data Cleaning"
   ]
  },
  {
   "cell_type": "code",
   "execution_count": 7,
   "id": "a357b5d6",
   "metadata": {},
   "outputs": [],
   "source": [
    "df = pd.merge(df1, df2, left_on='PROSPECTID', how='inner', right_on='PROSPECTID')"
   ]
  },
  {
   "cell_type": "code",
   "execution_count": 8,
   "id": "d2e5790a-a612-4221-9d70-bcf019468be3",
   "metadata": {},
   "outputs": [
    {
     "name": "stdout",
     "output_type": "stream",
     "text": [
      "Column: Age_Oldest_TL, Count: 40, Percentage: 0.08%\n",
      "Column: Age_Newest_TL, Count: 40, Percentage: 0.08%\n"
     ]
    }
   ],
   "source": [
    "for i in df1.columns:\n",
    "    count=(df1[i]==-99999).sum()\n",
    "    percentage=(count/len(df1))*100\n",
    "    if count > 0:\n",
    "        print(f\"Column: {i}, Count: {count}, Percentage: {percentage:.2f}%\")"
   ]
  },
  {
   "cell_type": "code",
   "execution_count": 9,
   "id": "15698410-5b4e-4cff-b163-6718b4b219bc",
   "metadata": {},
   "outputs": [],
   "source": [
    "columns_to_drop = []\n",
    "for i in df.columns:\n",
    "    if df[df[i] == -99999].shape[0] > 10000:\n",
    "        columns_to_drop.append(i)\n",
    "\n",
    "{i: df[df[i] == -99999].shape[0] for i in columns_to_drop}\n",
    "\n",
    "# all columns have more than 10000 null values, so drop them\n",
    "\n",
    "df = df.drop(columns=columns_to_drop)"
   ]
  },
  {
   "cell_type": "code",
   "execution_count": 10,
   "id": "285f2fdf",
   "metadata": {},
   "outputs": [],
   "source": [
    "rows_to_remove = dict()\n",
    "for i in df.columns:\n",
    "    if df[df[i] == -99999].shape[0] > 0:\n",
    "        rows_to_remove[i] = df[df[i] == -99999].shape[0]\n",
    "\n",
    "# maximum null values or say -99999 are 6321, so these rows can be dropped\n",
    "for i in df.columns:   \n",
    "    df = df[df[i] != -99999]"
   ]
  },
  {
   "cell_type": "code",
   "execution_count": 11,
   "id": "eb868155-5a0a-4fe3-8595-ac66599d8499",
   "metadata": {},
   "outputs": [
    {
     "data": {
      "text/plain": [
       "(42064, 79)"
      ]
     },
     "execution_count": 11,
     "metadata": {},
     "output_type": "execute_result"
    }
   ],
   "source": [
    "df.shape"
   ]
  },
  {
   "cell_type": "markdown",
   "id": "775566da-3549-4a72-89d1-272dae02ce89",
   "metadata": {},
   "source": [
    "### Separating Columns on the basis of datatytpe"
   ]
  },
  {
   "cell_type": "code",
   "execution_count": 12,
   "id": "0041782d-58bf-412c-ad1d-68c53ad54687",
   "metadata": {},
   "outputs": [
    {
     "name": "stdout",
     "output_type": "stream",
     "text": [
      "<class 'pandas.core.frame.DataFrame'>\n",
      "Index: 42064 entries, 0 to 51335\n",
      "Data columns (total 79 columns):\n",
      " #   Column                      Non-Null Count  Dtype  \n",
      "---  ------                      --------------  -----  \n",
      " 0   PROSPECTID                  42064 non-null  int64  \n",
      " 1   Total_TL                    42064 non-null  int64  \n",
      " 2   Tot_Closed_TL               42064 non-null  int64  \n",
      " 3   Tot_Active_TL               42064 non-null  int64  \n",
      " 4   Total_TL_opened_L6M         42064 non-null  int64  \n",
      " 5   Tot_TL_closed_L6M           42064 non-null  int64  \n",
      " 6   pct_tl_open_L6M             42064 non-null  float64\n",
      " 7   pct_tl_closed_L6M           42064 non-null  float64\n",
      " 8   pct_active_tl               42064 non-null  float64\n",
      " 9   pct_closed_tl               42064 non-null  float64\n",
      " 10  Total_TL_opened_L12M        42064 non-null  int64  \n",
      " 11  Tot_TL_closed_L12M          42064 non-null  int64  \n",
      " 12  pct_tl_open_L12M            42064 non-null  float64\n",
      " 13  pct_tl_closed_L12M          42064 non-null  float64\n",
      " 14  Tot_Missed_Pmnt             42064 non-null  int64  \n",
      " 15  Auto_TL                     42064 non-null  int64  \n",
      " 16  CC_TL                       42064 non-null  int64  \n",
      " 17  Consumer_TL                 42064 non-null  int64  \n",
      " 18  Gold_TL                     42064 non-null  int64  \n",
      " 19  Home_TL                     42064 non-null  int64  \n",
      " 20  PL_TL                       42064 non-null  int64  \n",
      " 21  Secured_TL                  42064 non-null  int64  \n",
      " 22  Unsecured_TL                42064 non-null  int64  \n",
      " 23  Other_TL                    42064 non-null  int64  \n",
      " 24  Age_Oldest_TL               42064 non-null  int64  \n",
      " 25  Age_Newest_TL               42064 non-null  int64  \n",
      " 26  time_since_recent_payment   42064 non-null  int64  \n",
      " 27  num_times_delinquent        42064 non-null  int64  \n",
      " 28  max_recent_level_of_deliq   42064 non-null  int64  \n",
      " 29  num_deliq_6mts              42064 non-null  int64  \n",
      " 30  num_deliq_12mts             42064 non-null  int64  \n",
      " 31  num_deliq_6_12mts           42064 non-null  int64  \n",
      " 32  num_times_30p_dpd           42064 non-null  int64  \n",
      " 33  num_times_60p_dpd           42064 non-null  int64  \n",
      " 34  num_std                     42064 non-null  int64  \n",
      " 35  num_std_6mts                42064 non-null  int64  \n",
      " 36  num_std_12mts               42064 non-null  int64  \n",
      " 37  num_sub                     42064 non-null  int64  \n",
      " 38  num_sub_6mts                42064 non-null  int64  \n",
      " 39  num_sub_12mts               42064 non-null  int64  \n",
      " 40  num_dbt                     42064 non-null  int64  \n",
      " 41  num_dbt_6mts                42064 non-null  int64  \n",
      " 42  num_dbt_12mts               42064 non-null  int64  \n",
      " 43  num_lss                     42064 non-null  int64  \n",
      " 44  num_lss_6mts                42064 non-null  int64  \n",
      " 45  num_lss_12mts               42064 non-null  int64  \n",
      " 46  recent_level_of_deliq       42064 non-null  int64  \n",
      " 47  tot_enq                     42064 non-null  int64  \n",
      " 48  CC_enq                      42064 non-null  int64  \n",
      " 49  CC_enq_L6m                  42064 non-null  int64  \n",
      " 50  CC_enq_L12m                 42064 non-null  int64  \n",
      " 51  PL_enq                      42064 non-null  int64  \n",
      " 52  PL_enq_L6m                  42064 non-null  int64  \n",
      " 53  PL_enq_L12m                 42064 non-null  int64  \n",
      " 54  time_since_recent_enq       42064 non-null  int64  \n",
      " 55  enq_L12m                    42064 non-null  int64  \n",
      " 56  enq_L6m                     42064 non-null  int64  \n",
      " 57  enq_L3m                     42064 non-null  int64  \n",
      " 58  MARITALSTATUS               42064 non-null  object \n",
      " 59  EDUCATION                   42064 non-null  object \n",
      " 60  AGE                         42064 non-null  int64  \n",
      " 61  GENDER                      42064 non-null  object \n",
      " 62  NETMONTHLYINCOME            42064 non-null  int64  \n",
      " 63  Time_With_Curr_Empr         42064 non-null  int64  \n",
      " 64  pct_of_active_TLs_ever      42064 non-null  float64\n",
      " 65  pct_opened_TLs_L6m_of_L12m  42064 non-null  float64\n",
      " 66  pct_currentBal_all_TL       42064 non-null  float64\n",
      " 67  CC_Flag                     42064 non-null  int64  \n",
      " 68  PL_Flag                     42064 non-null  int64  \n",
      " 69  pct_PL_enq_L6m_of_L12m      42064 non-null  float64\n",
      " 70  pct_CC_enq_L6m_of_L12m      42064 non-null  float64\n",
      " 71  pct_PL_enq_L6m_of_ever      42064 non-null  float64\n",
      " 72  pct_CC_enq_L6m_of_ever      42064 non-null  float64\n",
      " 73  HL_Flag                     42064 non-null  int64  \n",
      " 74  GL_Flag                     42064 non-null  int64  \n",
      " 75  last_prod_enq2              42064 non-null  object \n",
      " 76  first_prod_enq2             42064 non-null  object \n",
      " 77  Credit_Score                42064 non-null  int64  \n",
      " 78  Approved_Flag               42064 non-null  object \n",
      "dtypes: float64(13), int64(60), object(6)\n",
      "memory usage: 25.7+ MB\n"
     ]
    }
   ],
   "source": [
    "df.info()"
   ]
  },
  {
   "cell_type": "code",
   "execution_count": 13,
   "id": "e463cbc5-8894-4b8b-92db-164b8aedb3e1",
   "metadata": {},
   "outputs": [],
   "source": [
    "categorical=[]\n",
    "for i in df.columns:\n",
    "    if (df[i].dtype=='object'):\n",
    "        categorical.append(i)"
   ]
  },
  {
   "cell_type": "code",
   "execution_count": 14,
   "id": "d033e804-79f2-4962-82f8-a82d1496a977",
   "metadata": {},
   "outputs": [
    {
     "data": {
      "text/plain": [
       "['MARITALSTATUS',\n",
       " 'EDUCATION',\n",
       " 'GENDER',\n",
       " 'last_prod_enq2',\n",
       " 'first_prod_enq2',\n",
       " 'Approved_Flag']"
      ]
     },
     "execution_count": 14,
     "metadata": {},
     "output_type": "execute_result"
    }
   ],
   "source": [
    "categorical"
   ]
  },
  {
   "cell_type": "code",
   "execution_count": 15,
   "id": "6a656714-b2bf-41aa-9461-479b7e909063",
   "metadata": {},
   "outputs": [],
   "source": [
    "numeric_columns = []\n",
    "for i in df.columns:\n",
    "    if df[i].dtype != 'object' and i not in ['PROSPECTID','Approved_Flag']:\n",
    "        numeric_columns.append(i)"
   ]
  },
  {
   "cell_type": "code",
   "execution_count": 16,
   "id": "bcc4d017-227d-4738-90e2-ef4f6e23dd4b",
   "metadata": {},
   "outputs": [
    {
     "data": {
      "text/plain": [
       "['Total_TL',\n",
       " 'Tot_Closed_TL',\n",
       " 'Tot_Active_TL',\n",
       " 'Total_TL_opened_L6M',\n",
       " 'Tot_TL_closed_L6M',\n",
       " 'pct_tl_open_L6M',\n",
       " 'pct_tl_closed_L6M',\n",
       " 'pct_active_tl',\n",
       " 'pct_closed_tl',\n",
       " 'Total_TL_opened_L12M',\n",
       " 'Tot_TL_closed_L12M',\n",
       " 'pct_tl_open_L12M',\n",
       " 'pct_tl_closed_L12M',\n",
       " 'Tot_Missed_Pmnt',\n",
       " 'Auto_TL',\n",
       " 'CC_TL',\n",
       " 'Consumer_TL',\n",
       " 'Gold_TL',\n",
       " 'Home_TL',\n",
       " 'PL_TL',\n",
       " 'Secured_TL',\n",
       " 'Unsecured_TL',\n",
       " 'Other_TL',\n",
       " 'Age_Oldest_TL',\n",
       " 'Age_Newest_TL',\n",
       " 'time_since_recent_payment',\n",
       " 'num_times_delinquent',\n",
       " 'max_recent_level_of_deliq',\n",
       " 'num_deliq_6mts',\n",
       " 'num_deliq_12mts',\n",
       " 'num_deliq_6_12mts',\n",
       " 'num_times_30p_dpd',\n",
       " 'num_times_60p_dpd',\n",
       " 'num_std',\n",
       " 'num_std_6mts',\n",
       " 'num_std_12mts',\n",
       " 'num_sub',\n",
       " 'num_sub_6mts',\n",
       " 'num_sub_12mts',\n",
       " 'num_dbt',\n",
       " 'num_dbt_6mts',\n",
       " 'num_dbt_12mts',\n",
       " 'num_lss',\n",
       " 'num_lss_6mts',\n",
       " 'num_lss_12mts',\n",
       " 'recent_level_of_deliq',\n",
       " 'tot_enq',\n",
       " 'CC_enq',\n",
       " 'CC_enq_L6m',\n",
       " 'CC_enq_L12m',\n",
       " 'PL_enq',\n",
       " 'PL_enq_L6m',\n",
       " 'PL_enq_L12m',\n",
       " 'time_since_recent_enq',\n",
       " 'enq_L12m',\n",
       " 'enq_L6m',\n",
       " 'enq_L3m',\n",
       " 'AGE',\n",
       " 'NETMONTHLYINCOME',\n",
       " 'Time_With_Curr_Empr',\n",
       " 'pct_of_active_TLs_ever',\n",
       " 'pct_opened_TLs_L6m_of_L12m',\n",
       " 'pct_currentBal_all_TL',\n",
       " 'CC_Flag',\n",
       " 'PL_Flag',\n",
       " 'pct_PL_enq_L6m_of_L12m',\n",
       " 'pct_CC_enq_L6m_of_L12m',\n",
       " 'pct_PL_enq_L6m_of_ever',\n",
       " 'pct_CC_enq_L6m_of_ever',\n",
       " 'HL_Flag',\n",
       " 'GL_Flag',\n",
       " 'Credit_Score']"
      ]
     },
     "execution_count": 16,
     "metadata": {},
     "output_type": "execute_result"
    }
   ],
   "source": [
    "(numeric_columns)"
   ]
  },
  {
   "cell_type": "code",
   "execution_count": 17,
   "id": "f344623c-a5bb-4e4b-91ee-d483714b0b1d",
   "metadata": {},
   "outputs": [
    {
     "data": {
      "text/plain": [
       "72"
      ]
     },
     "execution_count": 17,
     "metadata": {},
     "output_type": "execute_result"
    }
   ],
   "source": [
    "len(numeric_columns)"
   ]
  },
  {
   "cell_type": "code",
   "execution_count": 18,
   "id": "fd5068aa-66af-4976-aca2-bf219c30aca5",
   "metadata": {},
   "outputs": [],
   "source": [
    "# Create DataFrames\n",
    "df_numerical = df[numeric_columns]\n",
    "df_categorical = df[categorical]"
   ]
  },
  {
   "cell_type": "code",
   "execution_count": 19,
   "id": "09900dd1-c840-4f7f-a446-134c1807a84a",
   "metadata": {},
   "outputs": [
    {
     "data": {
      "text/html": [
       "<div>\n",
       "<style scoped>\n",
       "    .dataframe tbody tr th:only-of-type {\n",
       "        vertical-align: middle;\n",
       "    }\n",
       "\n",
       "    .dataframe tbody tr th {\n",
       "        vertical-align: top;\n",
       "    }\n",
       "\n",
       "    .dataframe thead th {\n",
       "        text-align: right;\n",
       "    }\n",
       "</style>\n",
       "<table border=\"1\" class=\"dataframe\">\n",
       "  <thead>\n",
       "    <tr style=\"text-align: right;\">\n",
       "      <th></th>\n",
       "      <th>Total_TL</th>\n",
       "      <th>Tot_Closed_TL</th>\n",
       "      <th>Tot_Active_TL</th>\n",
       "      <th>Total_TL_opened_L6M</th>\n",
       "      <th>Tot_TL_closed_L6M</th>\n",
       "      <th>pct_tl_open_L6M</th>\n",
       "      <th>pct_tl_closed_L6M</th>\n",
       "      <th>pct_active_tl</th>\n",
       "      <th>pct_closed_tl</th>\n",
       "      <th>Total_TL_opened_L12M</th>\n",
       "      <th>...</th>\n",
       "      <th>pct_currentBal_all_TL</th>\n",
       "      <th>CC_Flag</th>\n",
       "      <th>PL_Flag</th>\n",
       "      <th>pct_PL_enq_L6m_of_L12m</th>\n",
       "      <th>pct_CC_enq_L6m_of_L12m</th>\n",
       "      <th>pct_PL_enq_L6m_of_ever</th>\n",
       "      <th>pct_CC_enq_L6m_of_ever</th>\n",
       "      <th>HL_Flag</th>\n",
       "      <th>GL_Flag</th>\n",
       "      <th>Credit_Score</th>\n",
       "    </tr>\n",
       "  </thead>\n",
       "  <tbody>\n",
       "    <tr>\n",
       "      <th>0</th>\n",
       "      <td>5</td>\n",
       "      <td>4</td>\n",
       "      <td>1</td>\n",
       "      <td>0</td>\n",
       "      <td>0</td>\n",
       "      <td>0.000</td>\n",
       "      <td>0.0</td>\n",
       "      <td>0.200</td>\n",
       "      <td>0.800</td>\n",
       "      <td>0</td>\n",
       "      <td>...</td>\n",
       "      <td>0.798</td>\n",
       "      <td>0</td>\n",
       "      <td>1</td>\n",
       "      <td>0.0</td>\n",
       "      <td>0.0</td>\n",
       "      <td>0.000</td>\n",
       "      <td>0.0</td>\n",
       "      <td>1</td>\n",
       "      <td>0</td>\n",
       "      <td>696</td>\n",
       "    </tr>\n",
       "    <tr>\n",
       "      <th>1</th>\n",
       "      <td>1</td>\n",
       "      <td>0</td>\n",
       "      <td>1</td>\n",
       "      <td>0</td>\n",
       "      <td>0</td>\n",
       "      <td>0.000</td>\n",
       "      <td>0.0</td>\n",
       "      <td>1.000</td>\n",
       "      <td>0.000</td>\n",
       "      <td>1</td>\n",
       "      <td>...</td>\n",
       "      <td>0.370</td>\n",
       "      <td>0</td>\n",
       "      <td>0</td>\n",
       "      <td>0.0</td>\n",
       "      <td>0.0</td>\n",
       "      <td>0.000</td>\n",
       "      <td>0.0</td>\n",
       "      <td>0</td>\n",
       "      <td>0</td>\n",
       "      <td>685</td>\n",
       "    </tr>\n",
       "    <tr>\n",
       "      <th>2</th>\n",
       "      <td>8</td>\n",
       "      <td>0</td>\n",
       "      <td>8</td>\n",
       "      <td>1</td>\n",
       "      <td>0</td>\n",
       "      <td>0.125</td>\n",
       "      <td>0.0</td>\n",
       "      <td>1.000</td>\n",
       "      <td>0.000</td>\n",
       "      <td>2</td>\n",
       "      <td>...</td>\n",
       "      <td>0.585</td>\n",
       "      <td>0</td>\n",
       "      <td>0</td>\n",
       "      <td>0.0</td>\n",
       "      <td>0.0</td>\n",
       "      <td>0.000</td>\n",
       "      <td>0.0</td>\n",
       "      <td>1</td>\n",
       "      <td>0</td>\n",
       "      <td>693</td>\n",
       "    </tr>\n",
       "    <tr>\n",
       "      <th>4</th>\n",
       "      <td>3</td>\n",
       "      <td>2</td>\n",
       "      <td>1</td>\n",
       "      <td>0</td>\n",
       "      <td>0</td>\n",
       "      <td>0.000</td>\n",
       "      <td>0.0</td>\n",
       "      <td>0.333</td>\n",
       "      <td>0.667</td>\n",
       "      <td>0</td>\n",
       "      <td>...</td>\n",
       "      <td>0.000</td>\n",
       "      <td>0</td>\n",
       "      <td>0</td>\n",
       "      <td>0.0</td>\n",
       "      <td>0.0</td>\n",
       "      <td>0.000</td>\n",
       "      <td>0.0</td>\n",
       "      <td>0</td>\n",
       "      <td>0</td>\n",
       "      <td>753</td>\n",
       "    </tr>\n",
       "    <tr>\n",
       "      <th>5</th>\n",
       "      <td>6</td>\n",
       "      <td>5</td>\n",
       "      <td>1</td>\n",
       "      <td>0</td>\n",
       "      <td>0</td>\n",
       "      <td>0.000</td>\n",
       "      <td>0.0</td>\n",
       "      <td>0.167</td>\n",
       "      <td>0.833</td>\n",
       "      <td>0</td>\n",
       "      <td>...</td>\n",
       "      <td>0.000</td>\n",
       "      <td>0</td>\n",
       "      <td>0</td>\n",
       "      <td>1.0</td>\n",
       "      <td>0.0</td>\n",
       "      <td>0.429</td>\n",
       "      <td>0.0</td>\n",
       "      <td>1</td>\n",
       "      <td>0</td>\n",
       "      <td>668</td>\n",
       "    </tr>\n",
       "  </tbody>\n",
       "</table>\n",
       "<p>5 rows × 72 columns</p>\n",
       "</div>"
      ],
      "text/plain": [
       "   Total_TL  Tot_Closed_TL  Tot_Active_TL  Total_TL_opened_L6M  \\\n",
       "0         5              4              1                    0   \n",
       "1         1              0              1                    0   \n",
       "2         8              0              8                    1   \n",
       "4         3              2              1                    0   \n",
       "5         6              5              1                    0   \n",
       "\n",
       "   Tot_TL_closed_L6M  pct_tl_open_L6M  pct_tl_closed_L6M  pct_active_tl  \\\n",
       "0                  0            0.000                0.0          0.200   \n",
       "1                  0            0.000                0.0          1.000   \n",
       "2                  0            0.125                0.0          1.000   \n",
       "4                  0            0.000                0.0          0.333   \n",
       "5                  0            0.000                0.0          0.167   \n",
       "\n",
       "   pct_closed_tl  Total_TL_opened_L12M  ...  pct_currentBal_all_TL  CC_Flag  \\\n",
       "0          0.800                     0  ...                  0.798        0   \n",
       "1          0.000                     1  ...                  0.370        0   \n",
       "2          0.000                     2  ...                  0.585        0   \n",
       "4          0.667                     0  ...                  0.000        0   \n",
       "5          0.833                     0  ...                  0.000        0   \n",
       "\n",
       "   PL_Flag  pct_PL_enq_L6m_of_L12m  pct_CC_enq_L6m_of_L12m  \\\n",
       "0        1                     0.0                     0.0   \n",
       "1        0                     0.0                     0.0   \n",
       "2        0                     0.0                     0.0   \n",
       "4        0                     0.0                     0.0   \n",
       "5        0                     1.0                     0.0   \n",
       "\n",
       "   pct_PL_enq_L6m_of_ever  pct_CC_enq_L6m_of_ever  HL_Flag  GL_Flag  \\\n",
       "0                   0.000                     0.0        1        0   \n",
       "1                   0.000                     0.0        0        0   \n",
       "2                   0.000                     0.0        1        0   \n",
       "4                   0.000                     0.0        0        0   \n",
       "5                   0.429                     0.0        1        0   \n",
       "\n",
       "   Credit_Score  \n",
       "0           696  \n",
       "1           685  \n",
       "2           693  \n",
       "4           753  \n",
       "5           668  \n",
       "\n",
       "[5 rows x 72 columns]"
      ]
     },
     "execution_count": 19,
     "metadata": {},
     "output_type": "execute_result"
    }
   ],
   "source": [
    "df_numerical.head()"
   ]
  },
  {
   "cell_type": "code",
   "execution_count": 20,
   "id": "f4907881-cb23-4fbb-addd-a2de1a2de48d",
   "metadata": {},
   "outputs": [
    {
     "data": {
      "text/html": [
       "<div>\n",
       "<style scoped>\n",
       "    .dataframe tbody tr th:only-of-type {\n",
       "        vertical-align: middle;\n",
       "    }\n",
       "\n",
       "    .dataframe tbody tr th {\n",
       "        vertical-align: top;\n",
       "    }\n",
       "\n",
       "    .dataframe thead th {\n",
       "        text-align: right;\n",
       "    }\n",
       "</style>\n",
       "<table border=\"1\" class=\"dataframe\">\n",
       "  <thead>\n",
       "    <tr style=\"text-align: right;\">\n",
       "      <th></th>\n",
       "      <th>MARITALSTATUS</th>\n",
       "      <th>EDUCATION</th>\n",
       "      <th>GENDER</th>\n",
       "      <th>last_prod_enq2</th>\n",
       "      <th>first_prod_enq2</th>\n",
       "      <th>Approved_Flag</th>\n",
       "    </tr>\n",
       "  </thead>\n",
       "  <tbody>\n",
       "    <tr>\n",
       "      <th>0</th>\n",
       "      <td>Married</td>\n",
       "      <td>12TH</td>\n",
       "      <td>M</td>\n",
       "      <td>PL</td>\n",
       "      <td>PL</td>\n",
       "      <td>P2</td>\n",
       "    </tr>\n",
       "    <tr>\n",
       "      <th>1</th>\n",
       "      <td>Single</td>\n",
       "      <td>GRADUATE</td>\n",
       "      <td>F</td>\n",
       "      <td>ConsumerLoan</td>\n",
       "      <td>ConsumerLoan</td>\n",
       "      <td>P2</td>\n",
       "    </tr>\n",
       "    <tr>\n",
       "      <th>2</th>\n",
       "      <td>Married</td>\n",
       "      <td>SSC</td>\n",
       "      <td>M</td>\n",
       "      <td>ConsumerLoan</td>\n",
       "      <td>others</td>\n",
       "      <td>P2</td>\n",
       "    </tr>\n",
       "    <tr>\n",
       "      <th>4</th>\n",
       "      <td>Married</td>\n",
       "      <td>POST-GRADUATE</td>\n",
       "      <td>M</td>\n",
       "      <td>AL</td>\n",
       "      <td>AL</td>\n",
       "      <td>P1</td>\n",
       "    </tr>\n",
       "    <tr>\n",
       "      <th>5</th>\n",
       "      <td>Married</td>\n",
       "      <td>12TH</td>\n",
       "      <td>M</td>\n",
       "      <td>ConsumerLoan</td>\n",
       "      <td>PL</td>\n",
       "      <td>P3</td>\n",
       "    </tr>\n",
       "  </tbody>\n",
       "</table>\n",
       "</div>"
      ],
      "text/plain": [
       "  MARITALSTATUS      EDUCATION GENDER last_prod_enq2 first_prod_enq2  \\\n",
       "0       Married           12TH      M             PL              PL   \n",
       "1        Single       GRADUATE      F   ConsumerLoan    ConsumerLoan   \n",
       "2       Married            SSC      M   ConsumerLoan          others   \n",
       "4       Married  POST-GRADUATE      M             AL              AL   \n",
       "5       Married           12TH      M   ConsumerLoan              PL   \n",
       "\n",
       "  Approved_Flag  \n",
       "0            P2  \n",
       "1            P2  \n",
       "2            P2  \n",
       "4            P1  \n",
       "5            P3  "
      ]
     },
     "execution_count": 20,
     "metadata": {},
     "output_type": "execute_result"
    }
   ],
   "source": [
    "df_categorical.head()"
   ]
  },
  {
   "cell_type": "markdown",
   "id": "afb6f987-5c9d-4667-b171-f8fcb452406c",
   "metadata": {},
   "source": [
    "## Univariate Analysis"
   ]
  },
  {
   "cell_type": "code",
   "execution_count": 21,
   "id": "4fa77fa9-6429-4c84-b294-0f5290d99461",
   "metadata": {},
   "outputs": [
    {
     "data": {
      "text/html": [
       "<div>\n",
       "<style scoped>\n",
       "    .dataframe tbody tr th:only-of-type {\n",
       "        vertical-align: middle;\n",
       "    }\n",
       "\n",
       "    .dataframe tbody tr th {\n",
       "        vertical-align: top;\n",
       "    }\n",
       "\n",
       "    .dataframe thead th {\n",
       "        text-align: right;\n",
       "    }\n",
       "</style>\n",
       "<table border=\"1\" class=\"dataframe\">\n",
       "  <thead>\n",
       "    <tr style=\"text-align: right;\">\n",
       "      <th></th>\n",
       "      <th>count</th>\n",
       "      <th>mean</th>\n",
       "      <th>std</th>\n",
       "      <th>min</th>\n",
       "      <th>25%</th>\n",
       "      <th>50%</th>\n",
       "      <th>75%</th>\n",
       "      <th>max</th>\n",
       "    </tr>\n",
       "  </thead>\n",
       "  <tbody>\n",
       "    <tr>\n",
       "      <th>Total_TL</th>\n",
       "      <td>42064.0</td>\n",
       "      <td>5.262980</td>\n",
       "      <td>7.463383</td>\n",
       "      <td>1.0</td>\n",
       "      <td>1.0</td>\n",
       "      <td>3.0</td>\n",
       "      <td>6.0</td>\n",
       "      <td>235.0</td>\n",
       "    </tr>\n",
       "    <tr>\n",
       "      <th>Tot_Closed_TL</th>\n",
       "      <td>42064.0</td>\n",
       "      <td>2.967383</td>\n",
       "      <td>6.141098</td>\n",
       "      <td>0.0</td>\n",
       "      <td>0.0</td>\n",
       "      <td>1.0</td>\n",
       "      <td>3.0</td>\n",
       "      <td>216.0</td>\n",
       "    </tr>\n",
       "    <tr>\n",
       "      <th>Tot_Active_TL</th>\n",
       "      <td>42064.0</td>\n",
       "      <td>2.295597</td>\n",
       "      <td>2.404086</td>\n",
       "      <td>0.0</td>\n",
       "      <td>1.0</td>\n",
       "      <td>2.0</td>\n",
       "      <td>3.0</td>\n",
       "      <td>47.0</td>\n",
       "    </tr>\n",
       "    <tr>\n",
       "      <th>Total_TL_opened_L6M</th>\n",
       "      <td>42064.0</td>\n",
       "      <td>0.812643</td>\n",
       "      <td>1.383559</td>\n",
       "      <td>0.0</td>\n",
       "      <td>0.0</td>\n",
       "      <td>0.0</td>\n",
       "      <td>1.0</td>\n",
       "      <td>27.0</td>\n",
       "    </tr>\n",
       "    <tr>\n",
       "      <th>Tot_TL_closed_L6M</th>\n",
       "      <td>42064.0</td>\n",
       "      <td>0.489920</td>\n",
       "      <td>1.058920</td>\n",
       "      <td>0.0</td>\n",
       "      <td>0.0</td>\n",
       "      <td>0.0</td>\n",
       "      <td>1.0</td>\n",
       "      <td>19.0</td>\n",
       "    </tr>\n",
       "    <tr>\n",
       "      <th>...</th>\n",
       "      <td>...</td>\n",
       "      <td>...</td>\n",
       "      <td>...</td>\n",
       "      <td>...</td>\n",
       "      <td>...</td>\n",
       "      <td>...</td>\n",
       "      <td>...</td>\n",
       "      <td>...</td>\n",
       "    </tr>\n",
       "    <tr>\n",
       "      <th>pct_PL_enq_L6m_of_ever</th>\n",
       "      <td>42064.0</td>\n",
       "      <td>0.195497</td>\n",
       "      <td>0.367414</td>\n",
       "      <td>0.0</td>\n",
       "      <td>0.0</td>\n",
       "      <td>0.0</td>\n",
       "      <td>0.0</td>\n",
       "      <td>1.0</td>\n",
       "    </tr>\n",
       "    <tr>\n",
       "      <th>pct_CC_enq_L6m_of_ever</th>\n",
       "      <td>42064.0</td>\n",
       "      <td>0.064186</td>\n",
       "      <td>0.225989</td>\n",
       "      <td>0.0</td>\n",
       "      <td>0.0</td>\n",
       "      <td>0.0</td>\n",
       "      <td>0.0</td>\n",
       "      <td>1.0</td>\n",
       "    </tr>\n",
       "    <tr>\n",
       "      <th>HL_Flag</th>\n",
       "      <td>42064.0</td>\n",
       "      <td>0.252235</td>\n",
       "      <td>0.434300</td>\n",
       "      <td>0.0</td>\n",
       "      <td>0.0</td>\n",
       "      <td>0.0</td>\n",
       "      <td>1.0</td>\n",
       "      <td>1.0</td>\n",
       "    </tr>\n",
       "    <tr>\n",
       "      <th>GL_Flag</th>\n",
       "      <td>42064.0</td>\n",
       "      <td>0.056580</td>\n",
       "      <td>0.231042</td>\n",
       "      <td>0.0</td>\n",
       "      <td>0.0</td>\n",
       "      <td>0.0</td>\n",
       "      <td>0.0</td>\n",
       "      <td>1.0</td>\n",
       "    </tr>\n",
       "    <tr>\n",
       "      <th>Credit_Score</th>\n",
       "      <td>42064.0</td>\n",
       "      <td>679.326336</td>\n",
       "      <td>21.133619</td>\n",
       "      <td>469.0</td>\n",
       "      <td>668.0</td>\n",
       "      <td>679.0</td>\n",
       "      <td>690.0</td>\n",
       "      <td>809.0</td>\n",
       "    </tr>\n",
       "  </tbody>\n",
       "</table>\n",
       "<p>72 rows × 8 columns</p>\n",
       "</div>"
      ],
      "text/plain": [
       "                          count        mean        std    min    25%    50%  \\\n",
       "Total_TL                42064.0    5.262980   7.463383    1.0    1.0    3.0   \n",
       "Tot_Closed_TL           42064.0    2.967383   6.141098    0.0    0.0    1.0   \n",
       "Tot_Active_TL           42064.0    2.295597   2.404086    0.0    1.0    2.0   \n",
       "Total_TL_opened_L6M     42064.0    0.812643   1.383559    0.0    0.0    0.0   \n",
       "Tot_TL_closed_L6M       42064.0    0.489920   1.058920    0.0    0.0    0.0   \n",
       "...                         ...         ...        ...    ...    ...    ...   \n",
       "pct_PL_enq_L6m_of_ever  42064.0    0.195497   0.367414    0.0    0.0    0.0   \n",
       "pct_CC_enq_L6m_of_ever  42064.0    0.064186   0.225989    0.0    0.0    0.0   \n",
       "HL_Flag                 42064.0    0.252235   0.434300    0.0    0.0    0.0   \n",
       "GL_Flag                 42064.0    0.056580   0.231042    0.0    0.0    0.0   \n",
       "Credit_Score            42064.0  679.326336  21.133619  469.0  668.0  679.0   \n",
       "\n",
       "                          75%    max  \n",
       "Total_TL                  6.0  235.0  \n",
       "Tot_Closed_TL             3.0  216.0  \n",
       "Tot_Active_TL             3.0   47.0  \n",
       "Total_TL_opened_L6M       1.0   27.0  \n",
       "Tot_TL_closed_L6M         1.0   19.0  \n",
       "...                       ...    ...  \n",
       "pct_PL_enq_L6m_of_ever    0.0    1.0  \n",
       "pct_CC_enq_L6m_of_ever    0.0    1.0  \n",
       "HL_Flag                   1.0    1.0  \n",
       "GL_Flag                   0.0    1.0  \n",
       "Credit_Score            690.0  809.0  \n",
       "\n",
       "[72 rows x 8 columns]"
      ]
     },
     "execution_count": 21,
     "metadata": {},
     "output_type": "execute_result"
    }
   ],
   "source": [
    "df_numerical.describe().T"
   ]
  },
  {
   "cell_type": "code",
   "execution_count": 22,
   "id": "4ae83151-915e-4aca-be2e-ffce6fd155b1",
   "metadata": {},
   "outputs": [
    {
     "name": "stdout",
     "output_type": "stream",
     "text": [
      "count    42064.000000\n",
      "mean         5.262980\n",
      "std          7.463383\n",
      "min          1.000000\n",
      "25%          1.000000\n",
      "50%          3.000000\n",
      "75%          6.000000\n",
      "max        235.000000\n",
      "Name: Total_TL, dtype: float64\n"
     ]
    }
   ],
   "source": [
    "print(df_numerical['Total_TL'].describe())"
   ]
  },
  {
   "cell_type": "code",
   "execution_count": 23,
   "id": "bc0fa5e0-a56c-4d80-88d1-c13e01ba2a6e",
   "metadata": {},
   "outputs": [
    {
     "data": {
      "text/plain": [
       "np.float64(5.498357209788038)"
      ]
     },
     "execution_count": 23,
     "metadata": {},
     "output_type": "execute_result"
    }
   ],
   "source": [
    "df_numerical['Total_TL'].skew()"
   ]
  },
  {
   "cell_type": "code",
   "execution_count": 24,
   "id": "6db058e5-2cca-4ed3-a74f-f978fc87d2b0",
   "metadata": {},
   "outputs": [
    {
     "data": {
      "image/png": "[encoded data removed]",
      "text/plain": [
       "<Figure size 640x480 with 1 Axes>"
      ]
     },
     "metadata": {},
     "output_type": "display_data"
    },
    {
     "data": {
      "image/png": "[encoded data removed]",
      "text/plain": [
       "<Figure size 640x480 with 1 Axes>"
      ]
     },
     "metadata": {},
     "output_type": "display_data"
    },
    {
     "data": {
      "text/plain": [
       "<Axes: ylabel='Density'>"
      ]
     },
     "execution_count": 24,
     "metadata": {},
     "output_type": "execute_result"
    },
    {
     "data": {
      "image/png": "[encoded data removed]",
      "text/plain": [
       "<Figure size 640x480 with 1 Axes>"
      ]
     },
     "metadata": {},
     "output_type": "display_data"
    }
   ],
   "source": [
    "import seaborn as sns\n",
    "import matplotlib.pyplot as plt\n",
    "\n",
    "sns.boxplot(x=df_numerical['Total_TL'])\n",
    "plt.title(\"Boxplot of Total_TL\")\n",
    "plt.show()\n",
    "\n",
    "sns.histplot(df_numerical['Total_TL'], bins=100)\n",
    "plt.title(\"Histogram of Total_TL\")\n",
    "plt.show()\n",
    "\n",
    "df_numerical['Total_TL'].plot(kind='kde')"
   ]
  },
  {
   "cell_type": "code",
   "execution_count": 25,
   "id": "46b31c43-ea3d-4624-a3ed-5a45b68b972b",
   "metadata": {},
   "outputs": [
    {
     "data": {
      "text/html": [
       "<div>\n",
       "<style scoped>\n",
       "    .dataframe tbody tr th:only-of-type {\n",
       "        vertical-align: middle;\n",
       "    }\n",
       "\n",
       "    .dataframe tbody tr th {\n",
       "        vertical-align: top;\n",
       "    }\n",
       "\n",
       "    .dataframe thead th {\n",
       "        text-align: right;\n",
       "    }\n",
       "</style>\n",
       "<table border=\"1\" class=\"dataframe\">\n",
       "  <thead>\n",
       "    <tr style=\"text-align: right;\">\n",
       "      <th></th>\n",
       "      <th>Total_TL</th>\n",
       "      <th>Tot_Closed_TL</th>\n",
       "      <th>Tot_Active_TL</th>\n",
       "      <th>Total_TL_opened_L6M</th>\n",
       "      <th>Tot_TL_closed_L6M</th>\n",
       "      <th>pct_tl_open_L6M</th>\n",
       "      <th>pct_tl_closed_L6M</th>\n",
       "      <th>pct_active_tl</th>\n",
       "      <th>pct_closed_tl</th>\n",
       "      <th>Total_TL_opened_L12M</th>\n",
       "      <th>...</th>\n",
       "      <th>pct_currentBal_all_TL</th>\n",
       "      <th>CC_Flag</th>\n",
       "      <th>PL_Flag</th>\n",
       "      <th>pct_PL_enq_L6m_of_L12m</th>\n",
       "      <th>pct_CC_enq_L6m_of_L12m</th>\n",
       "      <th>pct_PL_enq_L6m_of_ever</th>\n",
       "      <th>pct_CC_enq_L6m_of_ever</th>\n",
       "      <th>HL_Flag</th>\n",
       "      <th>GL_Flag</th>\n",
       "      <th>Credit_Score</th>\n",
       "    </tr>\n",
       "  </thead>\n",
       "  <tbody>\n",
       "    <tr>\n",
       "      <th>5261</th>\n",
       "      <td>235</td>\n",
       "      <td>216</td>\n",
       "      <td>19</td>\n",
       "      <td>0</td>\n",
       "      <td>0</td>\n",
       "      <td>0.0</td>\n",
       "      <td>0.0</td>\n",
       "      <td>0.081</td>\n",
       "      <td>0.919</td>\n",
       "      <td>0</td>\n",
       "      <td>...</td>\n",
       "      <td>0.0</td>\n",
       "      <td>0</td>\n",
       "      <td>0</td>\n",
       "      <td>0.0</td>\n",
       "      <td>0.0</td>\n",
       "      <td>0.0</td>\n",
       "      <td>0.0</td>\n",
       "      <td>1</td>\n",
       "      <td>0</td>\n",
       "      <td>656</td>\n",
       "    </tr>\n",
       "  </tbody>\n",
       "</table>\n",
       "<p>1 rows × 72 columns</p>\n",
       "</div>"
      ],
      "text/plain": [
       "      Total_TL  Tot_Closed_TL  Tot_Active_TL  Total_TL_opened_L6M  \\\n",
       "5261       235            216             19                    0   \n",
       "\n",
       "      Tot_TL_closed_L6M  pct_tl_open_L6M  pct_tl_closed_L6M  pct_active_tl  \\\n",
       "5261                  0              0.0                0.0          0.081   \n",
       "\n",
       "      pct_closed_tl  Total_TL_opened_L12M  ...  pct_currentBal_all_TL  \\\n",
       "5261          0.919                     0  ...                    0.0   \n",
       "\n",
       "      CC_Flag  PL_Flag  pct_PL_enq_L6m_of_L12m  pct_CC_enq_L6m_of_L12m  \\\n",
       "5261        0        0                     0.0                     0.0   \n",
       "\n",
       "      pct_PL_enq_L6m_of_ever  pct_CC_enq_L6m_of_ever  HL_Flag  GL_Flag  \\\n",
       "5261                     0.0                     0.0        1        0   \n",
       "\n",
       "      Credit_Score  \n",
       "5261           656  \n",
       "\n",
       "[1 rows x 72 columns]"
      ]
     },
     "execution_count": 25,
     "metadata": {},
     "output_type": "execute_result"
    }
   ],
   "source": [
    "df_numerical[df_numerical['Total_TL']>=235]"
   ]
  },
  {
   "cell_type": "markdown",
   "id": "8a67da78-d7be-4ed5-9a8a-fdbd44cc073d",
   "metadata": {},
   "source": [
    "### Conclusion"
   ]
  },
  {
   "cell_type": "markdown",
   "id": "e5f33a41-446c-4910-aceb-70bb235c7816",
   "metadata": {},
   "source": [
    "**Risk Perspective:**\n",
    "- A high Total_TL could mean the customer is financially active, or potentially over-leveraged.\n",
    "\n",
    "- Very high values (e.g., 235) might indicate a risk, error in data, or a special business client.\n",
    "\n",
    "**Modeling Use:**\n",
    "\n",
    "   - Might be a good feature for classification, e.g., predicting if a customer is likely to default or not"
   ]
  },
  {
   "cell_type": "code",
   "execution_count": 27,
   "id": "d7f9602a-310c-4983-8523-f10740490a08",
   "metadata": {},
   "outputs": [
    {
     "name": "stdout",
     "output_type": "stream",
     "text": [
      "count    42064.000000\n",
      "mean         2.967383\n",
      "std          6.141098\n",
      "min          0.000000\n",
      "25%          0.000000\n",
      "50%          1.000000\n",
      "75%          3.000000\n",
      "max        216.000000\n",
      "Name: Tot_Closed_TL, dtype: float64\n"
     ]
    }
   ],
   "source": [
    "print(df_numerical['Tot_Closed_TL'].describe())"
   ]
  },
  {
   "cell_type": "code",
   "execution_count": 28,
   "id": "ea077deb-8bb8-41da-85f8-f498f936224f",
   "metadata": {},
   "outputs": [
    {
     "data": {
      "image/png": "[encoded data removed]",
      "text/plain": [
       "<Figure size 640x480 with 1 Axes>"
      ]
     },
     "metadata": {},
     "output_type": "display_data"
    }
   ],
   "source": [
    "sns.boxplot(x=df_numerical['Total_TL'])\n",
    "plt.title(\"Boxplot of Total_Closed_TL\")\n",
    "plt.show()"
   ]
  },
  {
   "cell_type": "code",
   "execution_count": 30,
   "id": "30f780bc-6a70-4d64-a366-4d4dee93d1c1",
   "metadata": {},
   "outputs": [
    {
     "name": "stdout",
     "output_type": "stream",
     "text": [
      "count    42064.000000\n",
      "mean         2.295597\n",
      "std          2.404086\n",
      "min          0.000000\n",
      "25%          1.000000\n",
      "50%          2.000000\n",
      "75%          3.000000\n",
      "max         47.000000\n",
      "Name: Tot_Active_TL, dtype: float64\n"
     ]
    }
   ],
   "source": [
    "print(df_numerical['Tot_Active_TL'].describe())"
   ]
  },
  {
   "cell_type": "code",
   "execution_count": 31,
   "id": "6a89f03a-94cd-4e05-856e-666b793c94d9",
   "metadata": {},
   "outputs": [
    {
     "data": {
      "text/html": [
       "<div>\n",
       "<style scoped>\n",
       "    .dataframe tbody tr th:only-of-type {\n",
       "        vertical-align: middle;\n",
       "    }\n",
       "\n",
       "    .dataframe tbody tr th {\n",
       "        vertical-align: top;\n",
       "    }\n",
       "\n",
       "    .dataframe thead th {\n",
       "        text-align: right;\n",
       "    }\n",
       "</style>\n",
       "<table border=\"1\" class=\"dataframe\">\n",
       "  <thead>\n",
       "    <tr style=\"text-align: right;\">\n",
       "      <th></th>\n",
       "      <th>Total_TL</th>\n",
       "      <th>Tot_Closed_TL</th>\n",
       "      <th>Tot_Active_TL</th>\n",
       "      <th>Total_TL_opened_L6M</th>\n",
       "      <th>Tot_TL_closed_L6M</th>\n",
       "      <th>pct_tl_open_L6M</th>\n",
       "      <th>pct_tl_closed_L6M</th>\n",
       "      <th>pct_active_tl</th>\n",
       "      <th>pct_closed_tl</th>\n",
       "      <th>Total_TL_opened_L12M</th>\n",
       "      <th>...</th>\n",
       "      <th>pct_currentBal_all_TL</th>\n",
       "      <th>CC_Flag</th>\n",
       "      <th>PL_Flag</th>\n",
       "      <th>pct_PL_enq_L6m_of_L12m</th>\n",
       "      <th>pct_CC_enq_L6m_of_L12m</th>\n",
       "      <th>pct_PL_enq_L6m_of_ever</th>\n",
       "      <th>pct_CC_enq_L6m_of_ever</th>\n",
       "      <th>HL_Flag</th>\n",
       "      <th>GL_Flag</th>\n",
       "      <th>Credit_Score</th>\n",
       "    </tr>\n",
       "  </thead>\n",
       "  <tbody>\n",
       "    <tr>\n",
       "      <th>10335</th>\n",
       "      <td>96</td>\n",
       "      <td>49</td>\n",
       "      <td>47</td>\n",
       "      <td>0</td>\n",
       "      <td>3</td>\n",
       "      <td>0.0</td>\n",
       "      <td>0.031</td>\n",
       "      <td>0.49</td>\n",
       "      <td>0.51</td>\n",
       "      <td>13</td>\n",
       "      <td>...</td>\n",
       "      <td>0.684</td>\n",
       "      <td>0</td>\n",
       "      <td>1</td>\n",
       "      <td>0.0</td>\n",
       "      <td>0.5</td>\n",
       "      <td>0.0</td>\n",
       "      <td>0.5</td>\n",
       "      <td>0</td>\n",
       "      <td>0</td>\n",
       "      <td>767</td>\n",
       "    </tr>\n",
       "  </tbody>\n",
       "</table>\n",
       "<p>1 rows × 72 columns</p>\n",
       "</div>"
      ],
      "text/plain": [
       "       Total_TL  Tot_Closed_TL  Tot_Active_TL  Total_TL_opened_L6M  \\\n",
       "10335        96             49             47                    0   \n",
       "\n",
       "       Tot_TL_closed_L6M  pct_tl_open_L6M  pct_tl_closed_L6M  pct_active_tl  \\\n",
       "10335                  3              0.0              0.031           0.49   \n",
       "\n",
       "       pct_closed_tl  Total_TL_opened_L12M  ...  pct_currentBal_all_TL  \\\n",
       "10335           0.51                    13  ...                  0.684   \n",
       "\n",
       "       CC_Flag  PL_Flag  pct_PL_enq_L6m_of_L12m  pct_CC_enq_L6m_of_L12m  \\\n",
       "10335        0        1                     0.0                     0.5   \n",
       "\n",
       "       pct_PL_enq_L6m_of_ever  pct_CC_enq_L6m_of_ever  HL_Flag  GL_Flag  \\\n",
       "10335                     0.0                     0.5        0        0   \n",
       "\n",
       "       Credit_Score  \n",
       "10335           767  \n",
       "\n",
       "[1 rows x 72 columns]"
      ]
     },
     "execution_count": 31,
     "metadata": {},
     "output_type": "execute_result"
    }
   ],
   "source": [
    "df_numerical[df_numerical['Tot_Active_TL']==47]"
   ]
  },
  {
   "cell_type": "code",
   "execution_count": 32,
   "id": "0316d386-39fb-465b-8bb4-6914c47563d4",
   "metadata": {},
   "outputs": [
    {
     "data": {
      "text/plain": [
       "<Axes: ylabel='count'>"
      ]
     },
     "execution_count": 32,
     "metadata": {},
     "output_type": "execute_result"
    },
    {
     "data": {
      "image/png": "[encoded data removed]",
      "text/plain": [
       "<Figure size 640x480 with 1 Axes>"
      ]
     },
     "metadata": {},
     "output_type": "display_data"
    }
   ],
   "source": [
    "df_categorical['GENDER'].value_counts().plot(kind='pie',autopct='%0.1f%%')"
   ]
  },
  {
   "cell_type": "code",
   "execution_count": 33,
   "id": "be4e0f6d-00f7-40e4-b0a7-5c0e2f459976",
   "metadata": {},
   "outputs": [
    {
     "data": {
      "text/plain": [
       "<Axes: ylabel='count'>"
      ]
     },
     "execution_count": 33,
     "metadata": {},
     "output_type": "execute_result"
    },
    {
     "data": {
      "image/png": "[encoded data removed]",
      "text/plain": [
       "<Figure size 640x480 with 1 Axes>"
      ]
     },
     "metadata": {},
     "output_type": "display_data"
    }
   ],
   "source": [
    "df_categorical['Approved_Flag'].value_counts().plot(kind='pie',autopct='%0.1f%%')\n"
   ]
  },
  {
   "cell_type": "markdown",
   "id": "6f29d154-089b-4a9f-b182-ea0ebfacfaaa",
   "metadata": {},
   "source": [
    "## Bivariate Analysis"
   ]
  },
  {
   "cell_type": "markdown",
   "id": "c6ebf82b-2239-4871-98e3-704c35876a7a",
   "metadata": {},
   "source": [
    "**categorical-categorical**"
   ]
  },
  {
   "cell_type": "code",
   "execution_count": 35,
   "id": "eee20bc3-4741-4623-882a-35968799c082",
   "metadata": {},
   "outputs": [
    {
     "name": "stdout",
     "output_type": "stream",
     "text": [
      "MARITALSTATUS\n",
      "Married    30886\n",
      "Single     11178\n",
      "Name: count, dtype: int64\n"
     ]
    }
   ],
   "source": [
    "print(df_categorical['MARITALSTATUS'].value_counts())"
   ]
  },
  {
   "cell_type": "code",
   "execution_count": 36,
   "id": "c7ab6682-b21f-4b3c-8361-9dae3d8a10a0",
   "metadata": {},
   "outputs": [
    {
     "data": {
      "text/html": [
       "<div>\n",
       "<style scoped>\n",
       "    .dataframe tbody tr th:only-of-type {\n",
       "        vertical-align: middle;\n",
       "    }\n",
       "\n",
       "    .dataframe tbody tr th {\n",
       "        vertical-align: top;\n",
       "    }\n",
       "\n",
       "    .dataframe thead th {\n",
       "        text-align: right;\n",
       "    }\n",
       "</style>\n",
       "<table border=\"1\" class=\"dataframe\">\n",
       "  <thead>\n",
       "    <tr style=\"text-align: right;\">\n",
       "      <th>Approved_Flag</th>\n",
       "      <th>P1</th>\n",
       "      <th>P2</th>\n",
       "      <th>P3</th>\n",
       "      <th>P4</th>\n",
       "    </tr>\n",
       "    <tr>\n",
       "      <th>MARITALSTATUS</th>\n",
       "      <th></th>\n",
       "      <th></th>\n",
       "      <th></th>\n",
       "      <th></th>\n",
       "    </tr>\n",
       "  </thead>\n",
       "  <tbody>\n",
       "    <tr>\n",
       "      <th>Married</th>\n",
       "      <td>4435</td>\n",
       "      <td>18718</td>\n",
       "      <td>4387</td>\n",
       "      <td>3346</td>\n",
       "    </tr>\n",
       "    <tr>\n",
       "      <th>Single</th>\n",
       "      <td>473</td>\n",
       "      <td>6734</td>\n",
       "      <td>2053</td>\n",
       "      <td>1918</td>\n",
       "    </tr>\n",
       "  </tbody>\n",
       "</table>\n",
       "</div>"
      ],
      "text/plain": [
       "Approved_Flag    P1     P2    P3    P4\n",
       "MARITALSTATUS                         \n",
       "Married        4435  18718  4387  3346\n",
       "Single          473   6734  2053  1918"
      ]
     },
     "execution_count": 36,
     "metadata": {},
     "output_type": "execute_result"
    }
   ],
   "source": [
    "pd.crosstab(df_categorical['MARITALSTATUS'],df_categorical['Approved_Flag'])"
   ]
  },
  {
   "cell_type": "code",
   "execution_count": 37,
   "id": "a9578eb4-9d2d-4961-8890-93cbb73da57b",
   "metadata": {},
   "outputs": [
    {
     "data": {
      "text/html": [
       "<div>\n",
       "<style scoped>\n",
       "    .dataframe tbody tr th:only-of-type {\n",
       "        vertical-align: middle;\n",
       "    }\n",
       "\n",
       "    .dataframe tbody tr th {\n",
       "        vertical-align: top;\n",
       "    }\n",
       "\n",
       "    .dataframe thead th {\n",
       "        text-align: right;\n",
       "    }\n",
       "</style>\n",
       "<table border=\"1\" class=\"dataframe\">\n",
       "  <thead>\n",
       "    <tr style=\"text-align: right;\">\n",
       "      <th>Approved_Flag</th>\n",
       "      <th>P1</th>\n",
       "      <th>P2</th>\n",
       "      <th>P3</th>\n",
       "      <th>P4</th>\n",
       "    </tr>\n",
       "    <tr>\n",
       "      <th>EDUCATION</th>\n",
       "      <th></th>\n",
       "      <th></th>\n",
       "      <th></th>\n",
       "      <th></th>\n",
       "    </tr>\n",
       "  </thead>\n",
       "  <tbody>\n",
       "    <tr>\n",
       "      <th>12TH</th>\n",
       "      <td>1191</td>\n",
       "      <td>7326</td>\n",
       "      <td>1881</td>\n",
       "      <td>1305</td>\n",
       "    </tr>\n",
       "    <tr>\n",
       "      <th>GRADUATE</th>\n",
       "      <td>1766</td>\n",
       "      <td>8266</td>\n",
       "      <td>2136</td>\n",
       "      <td>1972</td>\n",
       "    </tr>\n",
       "    <tr>\n",
       "      <th>OTHERS</th>\n",
       "      <td>310</td>\n",
       "      <td>1401</td>\n",
       "      <td>327</td>\n",
       "      <td>253</td>\n",
       "    </tr>\n",
       "    <tr>\n",
       "      <th>POST-GRADUATE</th>\n",
       "      <td>304</td>\n",
       "      <td>1114</td>\n",
       "      <td>251</td>\n",
       "      <td>229</td>\n",
       "    </tr>\n",
       "    <tr>\n",
       "      <th>PROFESSIONAL</th>\n",
       "      <td>44</td>\n",
       "      <td>130</td>\n",
       "      <td>31</td>\n",
       "      <td>14</td>\n",
       "    </tr>\n",
       "    <tr>\n",
       "      <th>SSC</th>\n",
       "      <td>761</td>\n",
       "      <td>4518</td>\n",
       "      <td>1104</td>\n",
       "      <td>858</td>\n",
       "    </tr>\n",
       "    <tr>\n",
       "      <th>UNDER GRADUATE</th>\n",
       "      <td>532</td>\n",
       "      <td>2697</td>\n",
       "      <td>710</td>\n",
       "      <td>633</td>\n",
       "    </tr>\n",
       "  </tbody>\n",
       "</table>\n",
       "</div>"
      ],
      "text/plain": [
       "Approved_Flag     P1    P2    P3    P4\n",
       "EDUCATION                             \n",
       "12TH            1191  7326  1881  1305\n",
       "GRADUATE        1766  8266  2136  1972\n",
       "OTHERS           310  1401   327   253\n",
       "POST-GRADUATE    304  1114   251   229\n",
       "PROFESSIONAL      44   130    31    14\n",
       "SSC              761  4518  1104   858\n",
       "UNDER GRADUATE   532  2697   710   633"
      ]
     },
     "execution_count": 37,
     "metadata": {},
     "output_type": "execute_result"
    }
   ],
   "source": [
    "pd.crosstab(df_categorical['EDUCATION'],df_categorical['Approved_Flag'])"
   ]
  },
  {
   "cell_type": "code",
   "execution_count": 38,
   "id": "05e553d5-4b57-4ca4-9e1e-3b9b111860e1",
   "metadata": {},
   "outputs": [
    {
     "data": {
      "text/html": [
       "<div>\n",
       "<style scoped>\n",
       "    .dataframe tbody tr th:only-of-type {\n",
       "        vertical-align: middle;\n",
       "    }\n",
       "\n",
       "    .dataframe tbody tr th {\n",
       "        vertical-align: top;\n",
       "    }\n",
       "\n",
       "    .dataframe thead th {\n",
       "        text-align: right;\n",
       "    }\n",
       "</style>\n",
       "<table border=\"1\" class=\"dataframe\">\n",
       "  <thead>\n",
       "    <tr style=\"text-align: right;\">\n",
       "      <th>Approved_Flag</th>\n",
       "      <th>P1</th>\n",
       "      <th>P2</th>\n",
       "      <th>P3</th>\n",
       "      <th>P4</th>\n",
       "    </tr>\n",
       "    <tr>\n",
       "      <th>EDUCATION</th>\n",
       "      <th></th>\n",
       "      <th></th>\n",
       "      <th></th>\n",
       "      <th></th>\n",
       "    </tr>\n",
       "  </thead>\n",
       "  <tbody>\n",
       "    <tr>\n",
       "      <th>12TH</th>\n",
       "      <td>24.266504</td>\n",
       "      <td>28.783593</td>\n",
       "      <td>29.208075</td>\n",
       "      <td>24.791033</td>\n",
       "    </tr>\n",
       "    <tr>\n",
       "      <th>GRADUATE</th>\n",
       "      <td>35.982070</td>\n",
       "      <td>32.476819</td>\n",
       "      <td>33.167702</td>\n",
       "      <td>37.462006</td>\n",
       "    </tr>\n",
       "    <tr>\n",
       "      <th>OTHERS</th>\n",
       "      <td>6.316218</td>\n",
       "      <td>5.504479</td>\n",
       "      <td>5.077640</td>\n",
       "      <td>4.806231</td>\n",
       "    </tr>\n",
       "    <tr>\n",
       "      <th>POST-GRADUATE</th>\n",
       "      <td>6.193969</td>\n",
       "      <td>4.376866</td>\n",
       "      <td>3.897516</td>\n",
       "      <td>4.350304</td>\n",
       "    </tr>\n",
       "    <tr>\n",
       "      <th>PROFESSIONAL</th>\n",
       "      <td>0.896496</td>\n",
       "      <td>0.510765</td>\n",
       "      <td>0.481366</td>\n",
       "      <td>0.265957</td>\n",
       "    </tr>\n",
       "    <tr>\n",
       "      <th>SSC</th>\n",
       "      <td>15.505297</td>\n",
       "      <td>17.751061</td>\n",
       "      <td>17.142857</td>\n",
       "      <td>16.299392</td>\n",
       "    </tr>\n",
       "    <tr>\n",
       "      <th>UNDER GRADUATE</th>\n",
       "      <td>10.839446</td>\n",
       "      <td>10.596417</td>\n",
       "      <td>11.024845</td>\n",
       "      <td>12.025076</td>\n",
       "    </tr>\n",
       "  </tbody>\n",
       "</table>\n",
       "</div>"
      ],
      "text/plain": [
       "Approved_Flag          P1         P2         P3         P4\n",
       "EDUCATION                                                 \n",
       "12TH            24.266504  28.783593  29.208075  24.791033\n",
       "GRADUATE        35.982070  32.476819  33.167702  37.462006\n",
       "OTHERS           6.316218   5.504479   5.077640   4.806231\n",
       "POST-GRADUATE    6.193969   4.376866   3.897516   4.350304\n",
       "PROFESSIONAL     0.896496   0.510765   0.481366   0.265957\n",
       "SSC             15.505297  17.751061  17.142857  16.299392\n",
       "UNDER GRADUATE  10.839446  10.596417  11.024845  12.025076"
      ]
     },
     "execution_count": 38,
     "metadata": {},
     "output_type": "execute_result"
    }
   ],
   "source": [
    "pd.crosstab(df_categorical['EDUCATION'],df_categorical['Approved_Flag'],normalize='columns')*100"
   ]
  },
  {
   "cell_type": "code",
   "execution_count": 39,
   "id": "9704b791-58ff-4f35-bef1-27dd857a271d",
   "metadata": {},
   "outputs": [
    {
     "data": {
      "text/plain": [
       "<Axes: xlabel='Approved_Flag', ylabel='EDUCATION'>"
      ]
     },
     "execution_count": 39,
     "metadata": {},
     "output_type": "execute_result"
    },
    {
     "data": {
      "image/png": "[encoded data removed]",
      "text/plain": [
       "<Figure size 640x480 with 2 Axes>"
      ]
     },
     "metadata": {},
     "output_type": "display_data"
    }
   ],
   "source": [
    "sns.heatmap(pd.crosstab(df_categorical['EDUCATION'],df_categorical['Approved_Flag'],normalize='columns')*100)"
   ]
  },
  {
   "cell_type": "code",
   "execution_count": 40,
   "id": "f045b267-abcc-41e0-a487-6927f332a949",
   "metadata": {},
   "outputs": [
    {
     "data": {
      "text/plain": [
       "<Axes: xlabel='Approved_Flag', ylabel='NETMONTHLYINCOME'>"
      ]
     },
     "execution_count": 40,
     "metadata": {},
     "output_type": "execute_result"
    },
    {
     "data": {
      "image/png": "[encoded data removed]",
      "text/plain": [
       "<Figure size 640x480 with 1 Axes>"
      ]
     },
     "metadata": {},
     "output_type": "display_data"
    }
   ],
   "source": [
    "import seaborn as sns\n",
    "sns.boxplot(x=df_categorical['Approved_Flag'].head(20), y=df_numerical['NETMONTHLYINCOME'].head(10))"
   ]
  },
  {
   "cell_type": "markdown",
   "id": "960eef01-ed9f-4d00-a88e-76de8a2f78c6",
   "metadata": {},
   "source": [
    "## Multivariate Analysis"
   ]
  },
  {
   "cell_type": "code",
   "execution_count": 41,
   "id": "13780442-77f1-468b-8956-c6802c1d1c4a",
   "metadata": {},
   "outputs": [
    {
     "data": {
      "image/png": "[encoded data removed]",
      "text/plain": [
       "<Figure size 1600x800 with 2 Axes>"
      ]
     },
     "metadata": {},
     "output_type": "display_data"
    }
   ],
   "source": [
    "import seaborn as sns\n",
    "import matplotlib.pyplot as plt\n",
    "\n",
    "# Compute correlation matrix of numeric columns\n",
    "corr_matrix = df_numerical.select_dtypes(include=['number']).corr()\n",
    "\n",
    "# Plot heatmap of top 15 features most correlated with 'Approved_Flag' (if numeric)\n",
    "# Note: 'Approved_Flag' is object type, so we'll skip direct correlation and show full heatmap\n",
    "plt.figure(figsize=(16, 8))\n",
    "sns.heatmap(corr_matrix, cmap='coolwarm', annot=False, linewidths=0.5)\n",
    "plt.title(\"Correlation Heatmap of Numeric Features\", fontsize=14)\n",
    "plt.tight_layout()\n",
    "plt.show()"
   ]
  },
  {
   "cell_type": "code",
   "execution_count": 42,
   "id": "d7d16d75-3d51-41b5-ade2-8df840e741d3",
   "metadata": {},
   "outputs": [
    {
     "name": "stdout",
     "output_type": "stream",
     "text": [
      "Dropped columns due to high correlation:\n",
      "['Tot_Closed_TL', 'pct_closed_tl', 'Tot_TL_closed_L12M', 'Gold_TL', 'Secured_TL', 'Unsecured_TL', 'num_deliq_6_12mts', 'num_times_60p_dpd', 'num_std_12mts', 'num_dbt_12mts', 'num_lss_12mts', 'recent_level_of_deliq', 'CC_enq_L12m', 'PL_enq_L12m', 'enq_L6m', 'enq_L3m', 'pct_of_active_TLs_ever', 'pct_PL_enq_L6m_of_ever', 'pct_CC_enq_L6m_of_ever', 'GL_Flag']\n"
     ]
    }
   ],
   "source": [
    "import pandas as pd\n",
    "\n",
    "# Assuming df is your DataFrame\n",
    "# Step 1: Compute correlation matrix\n",
    "corr_matrix = df_numerical.corr().abs()\n",
    "\n",
    "# Step 2: Select upper triangle of correlation matrix\n",
    "upper = corr_matrix.where(\n",
    "    np.triu(np.ones(corr_matrix.shape), k=1).astype(bool)\n",
    ")\n",
    "\n",
    "# Step 3: Find features with correlation greater than 0.85\n",
    "to_drop = [column for column in upper.columns if any(upper[column] > 0.85)]\n",
    "\n",
    "# Step 4: Drop those columns\n",
    "df_reduced = df_numerical.drop(columns=to_drop)\n",
    "\n",
    "print(\"Dropped columns due to high correlation:\")\n",
    "print(to_drop)\n"
   ]
  },
  {
   "cell_type": "code",
   "execution_count": 43,
   "id": "e58bbe0e-96df-4302-b6a3-29c8fa6cdc58",
   "metadata": {},
   "outputs": [
    {
     "data": {
      "text/plain": [
       "20"
      ]
     },
     "execution_count": 43,
     "metadata": {},
     "output_type": "execute_result"
    }
   ],
   "source": [
    "len(to_drop)"
   ]
  },
  {
   "cell_type": "code",
   "execution_count": null,
   "id": "242d55c2-0f5b-485a-b6f9-8a4b553c39a0",
   "metadata": {},
   "outputs": [],
   "source": []
  }
 ],
 "metadata": {
  "kernelspec": {
   "display_name": "myenv",
   "language": "python",
   "name": "python3"
  },
  "language_info": {
   "codemirror_mode": {
    "name": "ipython",
    "version": 3
   },
   "file_extension": ".py",
   "mimetype": "text/x-python",
   "name": "python",
   "nbconvert_exporter": "python",
   "pygments_lexer": "ipython3",
   "version": "3.12.10"
  }
 },
 "nbformat": 4,
 "nbformat_minor": 5
}
