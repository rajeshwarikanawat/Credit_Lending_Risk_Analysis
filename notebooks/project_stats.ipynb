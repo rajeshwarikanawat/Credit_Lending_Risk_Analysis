{
 "cells": [
  {
   "cell_type": "markdown",
   "id": "f4ceff56-0893-4c51-b80b-55d6a811d4b5",
   "metadata": {},
   "source": [
    "# What is Statistics\n",
    "\n",
    "Statistics is a branch of mathematics that involves collecting, analysing, interpreting, and presenting data. It provides tools and methods to understand and make sense of large amounts of data\n",
    "and to draw conclusions and make decisions based on the data. In practice, statistics is used in a wide range of fields, such as business, economics, social sciences, medicine, and engineering. It is\n",
    "used to conduct research studies, analyse market trends, evaluate the effectiveness of treatments and interventions, and make forecasts and predictions.\n",
    "Examples:\n",
    "- Business - Data Analysis(Identifying customer behavior) and Demand Forecasting\n",
    "- Medical - Identify efficacy of new medicines(Clinical trials),Identifying risk factor for diseases(Epidemiology)\n",
    "- Government & Politics - Conducting surveys, Polling3.\n",
    "- Environmental Science - Climate research"
   ]
  },
  {
   "cell_type": "markdown",
   "id": "e4f3da7b-47df-4e4f-b635-8a01ab9ec8d3",
   "metadata": {},
   "source": [
    "## Types of Statistics\n",
    "\n",
    "### Discriptive Statistics: \n",
    "Descriptive statistics deals with the collection, organization, analysis, interpretation, and presentation of data. It focuses on summarizing and describing the main features of a set of data, without making inferences or predictions about the larger population.\n",
    "\n",
    "### Inferential Statistics:\n",
    "Inferential statistics deals with making conclusions and predictions about a population based on a sample. It involves the use of probability theory to estimate the likelihood of certain events occurring, hypothesis testing to determine if a certain claim about a population is supported by the data, and regression analysis to examine the relationships between variables"
   ]
  },
  {
   "cell_type": "markdown",
   "id": "6728e78f-1da3-4923-8c72-39dd9c158a6a",
   "metadata": {},
   "source": [
    "## Population Vs Sample\n",
    "**Population** refers to the entire group of individuals or objects that we are interested in studying. It is the complete set of observations that we want to make inferences about. For example, the population might be all the students in a particular school or all the cars in a particular city.\n",
    "\n",
    "A **sample**, on the other hand, is a subset of the population. It is a smaller group of individuals or objects that we select from the population to study. Samples are used to estimate characteristics of the population, such as the mean or the proportion with a certain attribute. For example, we might randomly select 100 students."
   ]
  },
  {
   "cell_type": "markdown",
   "id": "c15dbcfc-4405-413a-ac12-2ff96868dbe2",
   "metadata": {},
   "source": [
    "## Parameter Vs Statistics\n",
    "A parameter is a characteristic of a population, while a statistic is a characteristic of a sample. Parameters are generally unknown and are estimated using statistics. The goal of statistical inference is to use the information obtained from the sample to make inferences about the population parameters."
   ]
  },
  {
   "cell_type": "markdown",
   "id": "3eb23a13-c726-4005-a503-e34cfa89e2eb",
   "metadata": {},
   "source": [
    "## Inferential statistics\n",
    "Inferential statistics is a branch of statistics that deals with making inferences or predictions about a larger population based on a sample of data. It involves using statistical techniques to test hypotheses and draw conclusions from data. Some of the topics that come under inferential statistics are:\n",
    "\n",
    "**1.Hypothesis testing**: This involves testing a hypothesis about a population parameter based on a sample of data. For example, testing whether the mean height of a population is different from a given value.\n",
    "\n",
    "**2.Confidence intervals**: This involves estimating the range of values that a population parameter could take based on a sample of data. For example, estimating the population mean height within a given confidence level.\n",
    "\n",
    "**3. Analysis of variance (ANOVA)**: This involves comparing means across multiple groups to determine if there are any significant differences. For example, comparing the mean height of individuals from different regions.\n",
    "\n",
    "**4.Regression analysis**: This involves modelling the relationship between a dependent variable and one or more independent variables. For example, predicting the sales of a product based on advertising expenditure.\n",
    "\n",
    "**5.Chi-square tests**: This involves testing the independence or association between two categorical variables. For example, testing whether gender and occupation are independent variables.\n",
    "\n",
    "**6.Sampling techniques**: This involves ensuring that the sample of data is representative of the population. For example, using random sampling to select individuals from a population.\n",
    "\n",
    "**7.Bayesian statistics**: This is an alternative approach to statistical inference that involves updating beliefs about the probability of an event based on new evidence. For example, updating the probability of a disease given a positive test result."
   ]
  },
  {
   "cell_type": "markdown",
   "id": "b49f26ca-b9ba-4945-9cbd-a009dd9e999a",
   "metadata": {},
   "source": [
    "## **What is a Random Variable in Statistics?**  \n",
    "A **random variable** is a numerical value assigned to the outcome of a random experiment. It represents the possible outcomes of a stochastic process.\n",
    "\n",
    "For example, in rolling a six-sided die:  \n",
    "- The outcome can be \\( \\{1, 2, 3, 4, 5, 6\\} \\).  \n",
    "- If we define \\( X \\) as the outcome of the roll, then \\( X \\) is a random variable."
   ]
  },
  {
   "cell_type": "markdown",
   "id": "9f8701e1-a924-43f2-bee9-02327728e87f",
   "metadata": {},
   "source": [
    "## Probability Distribution\n",
    "\n",
    "A **probability distribution** describes how probabilities are assigned to different values of a **random variable**. It provides a mathematical function that defines the likelihood of occurrence of each possible outcome.\n",
    "\n",
    "For a **discrete random variable**, the probability distribution is given by the **Probability Mass Function (PMF)**:\n",
    "\n",
    "$$ P(X = x) = f(x) $$\n",
    "\n",
    "For a **continuous random variable**, the probability distribution is given by the **Probability Density Function (PDF)**:\n",
    "\n",
    "$$ P(a \\leq X \\leq b) = \\int_{a}^{b} f(x) \\,dx $$\n",
    "\n",
    "---\n",
    "\n",
    "## Examples of Probability Distributions\n",
    "\n",
    "### 1. Coin Toss (Bernoulli Distribution)\n",
    "In a **fair coin toss**, the random variable **$X$** represents the outcome:  \n",
    "- **$X = 0$ (Tails)**  \n",
    "- **$X = 1$ (Heads)**  \n",
    "\n",
    "The probability mass function (PMF) is:\n",
    "\n",
    "$$ P(X = 0) = \\frac{1}{2}, \\quad P(X = 1) = \\frac{1}{2} $$\n",
    "\n",
    "| Outcome ($X$) | Probability $P(X)$ |\n",
    "|--------------|-----------------|\n",
    "| $0$ (Tails)    | $ \\frac{1}{2} $ |\n",
    "| $1$ (Heads)    | $ \\frac{1}{2} $ |\n",
    "\n",
    "---\n",
    "\n",
    "### 2. Rolling a Fair Die (Uniform Distribution)\n",
    "In rolling a **six-sided die**, the random variable **$X$** represents the outcome:  \n",
    "- **$X = \\{1, 2, 3, 4, 5, 6\\}$**  \n",
    "\n",
    "Since each side has an equal probability of occurring, the probability mass function (PMF) is:\n",
    "\n",
    "$$ P(X = x) = \\frac{1}{6}, \\quad x \\in \\{1,2,3,4,5,6\\} $$\n",
    "\n",
    "| Outcome ($X$) | Probability $P(X)$ |\n",
    "|--------------|-----------------|\n",
    "| $1$            | $ \\frac{1}{6} $ |\n",
    "| $2$            | $ \\frac{1}{6} $ |\n",
    "| $3$            | $ \\frac{1}{6} $ |\n",
    "| $4$            | $ \\frac{1}{6} $ |\n",
    "| $5$            | $ \\frac{1}{6} $ |\n",
    "| $6$            | $ \\frac{1}{6} $ |\n",
    "\n",
    "---\n",
    "\n",
    "## Comparison Table:\n",
    "\n",
    "| Feature                  | Discrete Probability Distribution  | Continuous Probability Distribution |\n",
    "|--------------------------|----------------------------------|----------------------------------|\n",
    "| **Random Variable**      | Takes countable values          | Takes infinite values in a range |\n",
    "| **Probability Function** | PMF ($ P(X = x) $) | PDF ($ P(a \\leq X \\leq b) = \\int_{a}^{b} f(x) \\,dx $) |\n",
    "| **Example**              | Binomial, Poisson              | Normal, Exponential |\n",
    "\n",
    "---\n",
    "\n",
    "## Types of Probability Distributions\n",
    "\n",
    "### 1. Discrete Probability Distributions\n",
    "These distributions apply to **discrete random variables**, where the values are countable.\n",
    "\n",
    "#### Examples of Discrete Distributions:\n",
    "1. **Bernoulli Distribution**  \n",
    "   - Models a single trial with two outcomes (success/failure).  \n",
    "   - PMF:  \n",
    "     $$ P(X = x) = p^x (1 - p)^{(1 - x)}, \\quad x \\in \\{0,1\\} $$\n",
    "\n",
    "2. **Binomial Distribution**  \n",
    "   - Models the number of successes in $n$ independent Bernoulli trials.  \n",
    "   - PMF:  \n",
    "     $$ P(X = k) = \\binom{n}{k} p^k (1 - p)^{(n - k)}, \\quad k = 0,1,2,...,n $$\n",
    "\n",
    "3. **Poisson Distribution**  \n",
    "   - Models the number of events occurring in a fixed interval of time or space.  \n",
    "   - PMF:  \n",
    "     $$ P(X = k) = \\frac{\\lambda^k e^{-\\lambda}}{k!}, \\quad k = 0,1,2,... $$\n",
    "\n",
    "---"
   ]
  },
  {
   "cell_type": "markdown",
   "id": "58ba59d3-329e-4b2e-a0ae-dcfd91ec2060",
   "metadata": {},
   "source": [
    "### 2. Continuous Probability Distributions\n",
    "These distributions apply to **continuous random variables**, where values can take an infinite number of possibilities in a range.\n",
    "\n",
    "#### Examples of Continuous Distributions:\n",
    "1. **Normal (Gaussian) Distribution**\n",
    "   - Normal distribution, also known as Gaussian distribution, is a probability distribution that is commonly used in statistical analysis. It is a          continuous probability distribution that is symmetrical around the mean, with a bell-shaped curve.\n",
    "   - Represents a bell-shaped curve where values cluster around the mean.  \n",
    "   - PDF:  \n",
    "     $$ f(x) = \\frac{1}{\\sigma \\sqrt{2\\pi}} e^{-\\frac{(x - \\mu)^2}{2\\sigma^2}} $$"
   ]
  },
  {
   "cell_type": "markdown",
   "id": "ed85e539-95b9-4d57-b7ef-9e2748e7de44",
   "metadata": {},
   "source": [
    "- The normal distribution is characterized by two parameters: the mean (μ) and the standard deviation (σ). The mean represents the centre of the distribution, while the standard deviation represents the spread of the distribution\n",
    "- Commonality in Nature: Many natural phenomena follow a normal distribution, such as the heights of people, the weights of objects, the IQ scores of a population, and many more. Thus, the normal distribution provides a convenient way to model and analyse such data"
   ]
  },
  {
   "cell_type": "code",
   "execution_count": 18,
   "id": "a32127ce-ecd2-4d1a-8032-c62433c0c5eb",
   "metadata": {},
   "outputs": [
    {
     "data": {
      "image/png": "[encoded data removed]",
      "text/plain": [
       "<Figure size 800x500 with 1 Axes>"
      ]
     },
     "metadata": {},
     "output_type": "display_data"
    }
   ],
   "source": [
    "import numpy as np\n",
    "import matplotlib.pyplot as plt\n",
    "\n",
    "# Parameters for normal distribution\n",
    "mu, sigma = 4, 5  # Mean (μ) and Standard Deviation (σ)\n",
    "size = 1000  # Number of samples\n",
    "\n",
    "# Generate normal distribution data\n",
    "data = np.random.normal(mu, sigma, size)\n",
    "\n",
    "# Plot histogram\n",
    "plt.figure(figsize=(8, 5))\n",
    "plt.hist(data, bins=30, density=True, alpha=0.6, color='b', edgecolor='black')\n",
    "\n",
    "# Plot the normal distribution curve\n",
    "x = np.linspace(min(data), max(data), 100)\n",
    "pdf = (1 / (sigma * np.sqrt(2 * np.pi))) * np.exp(-0.5 * ((x - mu) / sigma) ** 2)\n",
    "plt.plot(x, pdf, 'r', linewidth=2)\n",
    "\n",
    "# Labels and title\n",
    "plt.xlabel(\"Value\")\n",
    "plt.ylabel(\"Density\")\n",
    "plt.title(\"Normal Distribution\")\n",
    "plt.grid(True)\n",
    "\n",
    "# Show plot\n",
    "plt.show()"
   ]
  },
  {
   "cell_type": "markdown",
   "id": "9c77dcb7-dbe1-4489-b1b6-e2e324c82d97",
   "metadata": {},
   "source": [
    "**Question**: Suppose the heights of adult males in a certain population follow a normal distribution\n",
    "with a mean of 68 inches and a standard deviation of 3 inches. What is the probability\n",
    "that a randomly selected adult male from this population is taller than 72 inches"
   ]
  },
  {
   "cell_type": "code",
   "execution_count": 21,
   "id": "2c5d2de9-e836-4ec9-8b4e-99bdd9897cdc",
   "metadata": {},
   "outputs": [
    {
     "name": "stdout",
     "output_type": "stream",
     "text": [
      "Probability that a randomly selected adult male is taller than 72 inches: 0.0912\n"
     ]
    }
   ],
   "source": [
    "from scipy.stats import norm\n",
    "\n",
    "# Given parameters\n",
    "mu = 68  # Mean height\n",
    "sigma = 3  # Standard deviation\n",
    "x = 72  # Height to compare\n",
    "\n",
    "# Compute probability P(X > 72)\n",
    "probability = 1 - norm.cdf(x, loc=mu, scale=sigma)\n",
    "\n",
    "print(f\"Probability that a randomly selected adult male is taller than 72 inches: {probability:.4f}\")"
   ]
  },
  {
   "cell_type": "markdown",
   "id": "1a67bed3-ef4e-4a4e-9ed7-9a3d7272f0e4",
   "metadata": {},
   "source": [
    "2. **Chi-Square (χ²) Distribution**  \n",
    "The Chi-Square distribution (χ² distribution) is a continuous probability distribution that arises in statistical hypothesis testing, especially in:\n",
    "- Goodness-of-Fit Tests – Checking if data follows an expected distribution.\n",
    "- Tests for Independence – Examining relationships in contingency tables.\n",
    "\n",
    "The Chi-Square distribution, also written as χ² distribution, is a continuous\n",
    "probability distribution that is widely used in statistical hypothesis testing,\n",
    "particularly in the context of goodness-of-fit tests and tests for independence in\n",
    "contingency tables. It arises when the sum of the squares of independent\n",
    "standard normal random variables follows this distribution."
   ]
  },
  {
   "cell_type": "markdown",
   "id": "f7e6367d-9f4d-430e-be1d-27c3210a2dda",
   "metadata": {},
   "source": [
    "3. **Uniform Distribution**\n",
    "   - In probability theory and statistics, a uniform distribution is a probability distribution\n",
    "where all outcomes are equally likely within a given range. This means that if you were to\n",
    "select a random value from this range, any value would be as likely as any other value.\n",
    "   - All values in a given range are equally likely.  \n",
    "   - PDF:  \n",
    "     $$ f(x) = \\frac{1}{b - a}, \\quad a \\leq x \\leq b $$\n",
    "\n",
    "---"
   ]
  },
  {
   "cell_type": "code",
   "execution_count": 8,
   "id": "618382c1-3b0d-419a-a621-124e8234c470",
   "metadata": {},
   "outputs": [
    {
     "data": {
      "image/png": "[encoded data removed]",
      "text/plain": [
       "<Figure size 640x480 with 1 Axes>"
      ]
     },
     "metadata": {},
     "output_type": "display_data"
    }
   ],
   "source": [
    "import numpy as np\n",
    "import matplotlib.pyplot as plt\n",
    "from scipy.stats import uniform\n",
    "\n",
    "# Define parameters for uniform distribution\n",
    "a = 2  # Lower bound\n",
    "b = 5  # Upper bound\n",
    "size = 10000  # Number of samples\n",
    "\n",
    "# Generate random samples from the uniform distribution\n",
    "samples = uniform.rvs(loc=a, scale=b-a, size=size)\n",
    "\n",
    "# Plot histogram\n",
    "plt.hist(samples, bins=30, density=True, alpha=0.6, color='b', edgecolor='black')\n",
    "\n",
    "# Plot theoretical PDF\n",
    "x = np.linspace(a, b, 100)\n",
    "pdf = uniform.pdf(x, loc=a, scale=b-a)\n",
    "plt.plot(x, pdf, 'r-', lw=2, label=\"Uniform PDF\")\n",
    "\n",
    "plt.xlabel(\"Value\")\n",
    "plt.ylabel(\"Density\")\n",
    "plt.title(\"Uniform Distribution (a=2, b=5)\")\n",
    "plt.legend()\n",
    "plt.show()"
   ]
  },
  {
   "cell_type": "markdown",
   "id": "ce51a93d-263d-4f1c-874b-f267e047db88",
   "metadata": {},
   "source": [
    "## Key Differences:\n",
    "\n",
    "| Feature                  | Coin Toss (Bernoulli)  | Dice Roll (Uniform) |\n",
    "|--------------------------|----------------------|----------------------|\n",
    "| **Random Variable**      | $ X = \\{0,1\\} $ (Tails/Heads) | $ X = \\{1,2,3,4,5,6\\} $ |\n",
    "| **PMF**                  | $ P(X = x) = p^x (1 - p)^{(1 - x)} $ | $ P(X = x) = \\frac{1}{6} $ |\n",
    "| **Probability Values**    | $ P(0) = 0.5, P(1) = 0.5 $ | $ P(1) = P(2) = ... = P(6) = \\frac{1}{6} $ |\n",
    "\n",
    "---\n",
    "\n",
    "## Conclusion\n",
    "- **Coin toss follows a Bernoulli distribution** since it has only two possible outcomes.\n",
    "- **Rolling a fair die follows a uniform distribution** as each number has an equal chance of appearing.\n",
    "- **Discrete distributions use a PMF**, while continuous distributions use a PDF."
   ]
  },
  {
   "cell_type": "markdown",
   "id": "7e0fb034-a657-482d-a2b6-5c794b8da534",
   "metadata": {},
   "source": [
    "# HYPOTHESIS TESTING"
   ]
  },
  {
   "cell_type": "markdown",
   "id": "58c2ab4a-6ba0-4eff-b9ae-ac34dcebb340",
   "metadata": {},
   "source": [
    "### 1. Hypothesis Testing: Introduction\n",
    "\n",
    "Hypothesis testing is a statistical method used to determine whether there is enough evidence in a sample dataset to infer that a certain condition holds true for the entire population.\n",
    "Key Concepts:\n",
    "\n",
    "- **Null Hypothesis (H₀)**: Assumes there is no effect or no difference (status quo).\n",
    "- **Alternative Hypothesis (H₁)**: Assumes there is an effect or a difference.\n",
    "- **P-value**: Probability of obtaining test results at least as extreme as observed, assuming H₀ is true.\n",
    "- **Significance Level (α)**: Threshold (usually 0.05) to decide whether to reject H₀.(always assume)"
   ]
  },
  {
   "cell_type": "markdown",
   "id": "c0d2b057-2bac-4ccb-97d2-e01f2c40316c",
   "metadata": {},
   "source": [
    "#### some famous test\n",
    "ChiSquare-Cat vs Cat<br>\n",
    "T-test=Cat vs Num (2 categories)<br>\n",
    "Anova-test=Cat vs Num (>=3 categories)"
   ]
  },
  {
   "cell_type": "markdown",
   "id": "09486f50-eaea-489f-bb21-ae6045655cd4",
   "metadata": {},
   "source": [
    "| Test Name        | Use Case                                      | Test Statistic | Assumptions |\n",
    "|-----------------|---------------------------------------------|---------------|-------------|\n",
    "| **Z-Test**      | Compare sample mean to population mean      | Z-statistic   | Population variance known, normal distribution or large sample size |\n",
    "| **One-Sample T-Test** | Compare sample mean to population mean | T-statistic   | Population variance unknown, normal distribution or large sample size |\n",
    "| **Two-Sample T-Test** | Compare means of two independent samples | T-statistic | Samples are independent, normality, equal/unequal variance assumption |\n",
    "| **Paired T-Test** | Compare means of paired (dependent) samples | T-statistic | Differences are normally distributed |\n",
    "| **ANOVA**       | Compare means of more than two groups       | F-statistic   | Normal distribution, equal variances, independent groups |\n",
    "| **Chi-Square Test** | Test for independence or goodness of fit | Chi-Square    | Expected frequency > 5 in each cell, categorical data |\n",
    "| **Mann-Whitney U Test** | Compare two independent samples (non-parametric) | U-statistic | Independent samples, same shape distribution |\n",
    "| **Wilcoxon Signed-Rank Test** | Compare paired samples (non-parametric) | W-statistic | Differences are symmetrically distributed |\n",
    "| **Kruskal-Wallis Test** | Compare more than two independent samples (non-parametric) | H-statistic | Independent samples, same shape distribution |\n",
    "| **Kolmogorov-Smirnov Test** | Compare distributions of two samples | D-statistic | Continuous data, independent samples |\n",
    "| **Shapiro-Wilk Test** | Test for normality | W-statistic | Data should be randomly sampled |\n",
    "| **Levene’s Test** | Test for equality of variances | W-statistic | Independent samples, continuous data |\n"
   ]
  },
  {
   "cell_type": "markdown",
   "id": "4ab2a3c0-f0e6-4765-b13d-574e11750bfd",
   "metadata": {},
   "source": [
    "### 1.1 Example: T-Test (Comparing Two Groups)\n",
    "\n",
    "Let’s test whether men and women have **different average salaries**."
   ]
  },
  {
   "cell_type": "code",
   "execution_count": 7,
   "id": "e738bd3a-07ea-460e-852f-194e31a402ff",
   "metadata": {},
   "outputs": [
    {
     "name": "stdout",
     "output_type": "stream",
     "text": [
      "T-Statistic: 0.6433541854393992\n",
      "P-Value: 0.5379949234898115\n",
      "Fail to reject H₀: No significant difference in salaries.\n"
     ]
    }
   ],
   "source": [
    "import numpy as np\n",
    "import scipy.stats as stats\n",
    "\n",
    "# Sample data: Salaries of men and women\n",
    "men_salaries = [55000, 60000, 65000, 70000, 75000]\n",
    "women_salaries = [52000, 58000, 60000, 67000, 72000]\n",
    "\n",
    "# Perform independent T-test\n",
    "t_stat, p_value = stats.ttest_ind(men_salaries, women_salaries)\n",
    "\n",
    "print(\"T-Statistic:\", t_stat)\n",
    "print(\"P-Value:\", p_value)\n",
    "\n",
    "# Decision making\n",
    "alpha = 0.05\n",
    "if p_value < alpha:\n",
    "    print(\"Reject H₀: There is a significant difference in salaries.\")\n",
    "else:\n",
    "    print(\"Fail to reject H₀: No significant difference in salaries.\")"
   ]
  },
  {
   "cell_type": "markdown",
   "id": "e4094212",
   "metadata": {},
   "source": [
    "✅ Interpretation:\n",
    "\n",
    "   - If p-value < 0.05, we reject H₀ (there is a difference).\n",
    "   - If p-value ≥ 0.05, we fail to reject H₀ (no significant difference)."
   ]
  },
  {
   "cell_type": "markdown",
   "id": "c49dd429",
   "metadata": {},
   "source": [
    "### 2. Significance Level (α) & P-Value Decision\n",
    "\n",
    "The p-value tells us whether we should reject or fail to reject the null hypothesis."
   ]
  },
  {
   "cell_type": "code",
   "execution_count": 11,
   "id": "dfeb40ab",
   "metadata": {},
   "outputs": [
    {
     "data": {
      "image/png": "[encoded data removed]",
      "text/plain": [
       "<Figure size 800x500 with 1 Axes>"
      ]
     },
     "metadata": {},
     "output_type": "display_data"
    }
   ],
   "source": [
    "import matplotlib.pyplot as plt\n",
    "\n",
    "# Define range of p-values\n",
    "p_values = np.linspace(0, 1, 100)\n",
    "alpha = 0.05  # Significance level\n",
    "\n",
    "# Plot p-values\n",
    "plt.figure(figsize=(8,5))\n",
    "plt.plot(p_values, [1 if p < alpha else 0 for p in p_values], linestyle='dashed', color='red')\n",
    "plt.axvline(x=alpha, color='blue', linestyle='--', label=f'α = {alpha}')\n",
    "plt.xlabel('P-Value')\n",
    "plt.ylabel('Reject H₀? (1=Yes, 0=No)')\n",
    "plt.title('Decision Rule Based on P-Value')\n",
    "plt.legend()\n",
    "plt.show()"
   ]
  },
  {
   "cell_type": "markdown",
   "id": "0cafb678",
   "metadata": {},
   "source": [
    "### 3. Confidence Interval\n",
    "\n",
    "A **confidence interval (CI)** gives a range in which the true mean is expected to lie, based on the sample.<br>\n",
    "**Example: 95% Confidence Interval**"
   ]
  },
  {
   "cell_type": "code",
   "execution_count": 14,
   "id": "09a82cd6",
   "metadata": {},
   "outputs": [
    {
     "name": "stdout",
     "output_type": "stream",
     "text": [
      "95% Confidence Interval: (86.89454817724868, 91.90545182275133)\n"
     ]
    }
   ],
   "source": [
    "# Sample data: Test scores of students\n",
    "data = [88, 92, 85, 91, 89, 90, 95, 87, 84, 93]\n",
    "\n",
    "# Compute mean and standard error\n",
    "mean = np.mean(data)\n",
    "sem = stats.sem(data)\n",
    "\n",
    "# Confidence Interval (95%)\n",
    "confidence = 0.95\n",
    "interval = stats.t.interval(confidence, df=len(data)-1, loc=mean, scale=sem)\n",
    "\n",
    "print(f\"95% Confidence Interval: {interval}\")"
   ]
  },
  {
   "cell_type": "markdown",
   "id": "a7523c8e",
   "metadata": {},
   "source": [
    "✅ Interpretation:\n",
    "\n",
    "   - If CI = (85, 92), we are 95% confident that the true mean lies in this range."
   ]
  },
  {
   "cell_type": "markdown",
   "id": "174b1e5b",
   "metadata": {},
   "source": [
    "### 4. Chi-Square Test (Categorical Data)\n",
    "\n",
    "**Used to test relationships between categorical variables.<br>\n",
    "Example: Smoking vs. Lung Disease**"
   ]
  },
  {
   "cell_type": "code",
   "execution_count": 15,
   "id": "a28302fd",
   "metadata": {},
   "outputs": [
    {
     "name": "stdout",
     "output_type": "stream",
     "text": [
      "Lung Disease  No  Yes\n",
      "Smoker               \n",
      "No            70   30\n",
      "Yes           60   40\n",
      "Chi-Square Statistic: 1.7802197802197806\n",
      "P-Value: 0.18212234100949093\n",
      "Fail to reject H₀: No strong evidence of an association.\n"
     ]
    }
   ],
   "source": [
    "import pandas as pd\n",
    "from scipy.stats import chi2_contingency\n",
    "\n",
    "# Contingency Table: Smokers vs. Lung Disease\n",
    "data = pd.DataFrame({'Smoker': ['Yes', 'Yes', 'No', 'No'],\n",
    "                     'Lung Disease': ['Yes', 'No', 'Yes', 'No'],\n",
    "                     'Count': [40, 60, 30, 70]})\n",
    "\n",
    "# Pivot the data for chi-square test\n",
    "contingency_table = data.pivot(index='Smoker', columns='Lung Disease', values='Count')\n",
    "print(contingency_table)\n",
    "\n",
    "# Perform Chi-Square Test\n",
    "chi2_stat, p_value, dof, expected = chi2_contingency(contingency_table)\n",
    "\n",
    "print(\"Chi-Square Statistic:\", chi2_stat)\n",
    "print(\"P-Value:\", p_value)\n",
    "\n",
    "if p_value < 0.05:\n",
    "    print(\"Reject H₀: There is an association between smoking and lung disease.\")\n",
    "else:\n",
    "    print(\"Fail to reject H₀: No strong evidence of an association.\")"
   ]
  },
  {
   "cell_type": "markdown",
   "id": "f806356a",
   "metadata": {},
   "source": [
    " ✅ Interpretation:\n",
    "\n",
    "   - If **p-value < 0.05**, smoking is significantly associated with lung disease."
   ]
  },
  {
   "cell_type": "markdown",
   "id": "b9759e9f-9381-4f4a-930b-c2d79dbf1a5e",
   "metadata": {},
   "source": [
    " "
   ]
  },
  {
   "cell_type": "markdown",
   "id": "caf86ca6",
   "metadata": {},
   "source": [
    "### 5. ANOVA (Comparing Multiple Groups)\n",
    "\n",
    "ANOVA (Analysis of Variance) tests if **three or more groups have different means.**"
   ]
  },
  {
   "cell_type": "markdown",
   "id": "0492efd1",
   "metadata": {},
   "source": [
    "### Example: Universities & Student Scores"
   ]
  },
  {
   "cell_type": "code",
   "execution_count": 5,
   "id": "32f1eb6f",
   "metadata": {},
   "outputs": [
    {
     "name": "stdout",
     "output_type": "stream",
     "text": [
      "F-Statistic: 13.237442922374425\n",
      "P-Value: 0.0009204992448997794\n",
      "Reject H₀: At least one university has a different average score.\n"
     ]
    }
   ],
   "source": [
    "# Sample data: Marks of students in 3 universities\n",
    "univ1 = [80, 85, 88, 90, 92]\n",
    "univ2 = [75, 78, 80, 82, 85]\n",
    "univ3 = [89, 91, 92, 94, 96]\n",
    "\n",
    "# Perform ANOVA\n",
    "f_stat, p_value = stats.f_oneway(univ1, univ2, univ3)\n",
    "\n",
    "print(\"F-Statistic:\", f_stat)\n",
    "print(\"P-Value:\", p_value)\n",
    "\n",
    "if p_value < 0.05:\n",
    "    print(\"Reject H₀: At least one university has a different average score.\")\n",
    "else:\n",
    "    print(\"Fail to reject H₀: No significant difference among universities.\")"
   ]
  },
  {
   "cell_type": "markdown",
   "id": "8ffa0842",
   "metadata": {},
   "source": [
    "**✅ Interpretation:**\n",
    "\n",
    "   - If **p-value < 0.05**, at least one university has significantly different scores."
   ]
  },
  {
   "cell_type": "markdown",
   "id": "6c4dd08d",
   "metadata": {},
   "source": [
    "### 6. Multicollinearity & Variance Inflation Factor (VIF)\n",
    "\n",
    "Multicollinearity occurs when predictor variables are highly correlated, leading to unstable regression models.<br>\n",
    "**Detecting Multicollinearity using VIF**"
   ]
  },
  {
   "cell_type": "code",
   "execution_count": 7,
   "id": "4759d0a6-6fd5-4535-8b1c-48ea71f531da",
   "metadata": {},
   "outputs": [
    {
     "name": "stdout",
     "output_type": "stream",
     "text": [
      "Collecting statsmodels\n",
      "  Obtaining dependency information for statsmodels from https://files.pythonhosted.org/packages/59/9a/e466a1b887a1441141e52dbcc98152f013d85076576da6eed2357f2016ae/statsmodels-0.14.4-cp312-cp312-win_amd64.whl.metadata\n",
      "  Downloading statsmodels-0.14.4-cp312-cp312-win_amd64.whl.metadata (9.5 kB)\n",
      "Requirement already satisfied: numpy<3,>=1.22.3 in c:\\users\\dell\\appdata\\local\\programs\\python\\python312\\lib\\site-packages (from statsmodels) (2.2.1)\n",
      "Requirement already satisfied: scipy!=1.9.2,>=1.8 in c:\\users\\dell\\appdata\\local\\programs\\python\\python312\\lib\\site-packages (from statsmodels) (1.14.1)\n",
      "Requirement already satisfied: pandas!=2.1.0,>=1.4 in c:\\users\\dell\\appdata\\local\\programs\\python\\python312\\lib\\site-packages (from statsmodels) (2.2.3)\n",
      "Collecting patsy>=0.5.6 (from statsmodels)\n",
      "  Obtaining dependency information for patsy>=0.5.6 from https://files.pythonhosted.org/packages/87/2b/b50d3d08ea0fc419c183a84210571eba005328efa62b6b98bc28e9ead32a/patsy-1.0.1-py2.py3-none-any.whl.metadata\n",
      "  Downloading patsy-1.0.1-py2.py3-none-any.whl.metadata (3.3 kB)\n",
      "Requirement already satisfied: packaging>=21.3 in c:\\users\\dell\\appdata\\local\\programs\\python\\python312\\lib\\site-packages (from statsmodels) (23.2)\n",
      "Requirement already satisfied: python-dateutil>=2.8.2 in c:\\users\\dell\\appdata\\local\\programs\\python\\python312\\lib\\site-packages (from pandas!=2.1.0,>=1.4->statsmodels) (2.8.2)\n",
      "Requirement already satisfied: pytz>=2020.1 in c:\\users\\dell\\appdata\\local\\programs\\python\\python312\\lib\\site-packages (from pandas!=2.1.0,>=1.4->statsmodels) (2024.2)\n",
      "Requirement already satisfied: tzdata>=2022.7 in c:\\users\\dell\\appdata\\local\\programs\\python\\python312\\lib\\site-packages (from pandas!=2.1.0,>=1.4->statsmodels) (2024.2)\n",
      "Requirement already satisfied: six>=1.5 in c:\\users\\dell\\appdata\\local\\programs\\python\\python312\\lib\\site-packages (from python-dateutil>=2.8.2->pandas!=2.1.0,>=1.4->statsmodels) (1.16.0)\n",
      "Downloading statsmodels-0.14.4-cp312-cp312-win_amd64.whl (9.8 MB)\n",
      "   ---------------------------------------- 0.0/9.8 MB ? eta -:--:--\n",
      "   ---------------------------------------- 0.0/9.8 MB ? eta -:--:--\n",
      "   ---------------------------------------- 0.0/9.8 MB 217.9 kB/s eta 0:00:45\n",
      "   ---------------------------------------- 0.0/9.8 MB 281.8 kB/s eta 0:00:35\n",
      "   ---------------------------------------- 0.1/9.8 MB 363.1 kB/s eta 0:00:27\n",
      "    --------------------------------------- 0.2/9.8 MB 756.6 kB/s eta 0:00:13\n",
      "   - -------------------------------------- 0.3/9.8 MB 1.2 MB/s eta 0:00:09\n",
      "   - -------------------------------------- 0.4/9.8 MB 1.5 MB/s eta 0:00:07\n",
      "   -- ------------------------------------- 0.6/9.8 MB 1.8 MB/s eta 0:00:06\n",
      "   --- ------------------------------------ 0.8/9.8 MB 1.9 MB/s eta 0:00:05\n",
      "   ----- ---------------------------------- 1.5/9.8 MB 3.3 MB/s eta 0:00:03\n",
      "   ------- -------------------------------- 1.8/9.8 MB 3.7 MB/s eta 0:00:03\n",
      "   -------- ------------------------------- 2.2/9.8 MB 4.0 MB/s eta 0:00:02\n",
      "   ---------- ----------------------------- 2.5/9.8 MB 4.3 MB/s eta 0:00:02\n",
      "   ----------- ---------------------------- 2.8/9.8 MB 4.5 MB/s eta 0:00:02\n",
      "   ------------- -------------------------- 3.2/9.8 MB 4.8 MB/s eta 0:00:02\n",
      "   -------------- ------------------------- 3.6/9.8 MB 4.9 MB/s eta 0:00:02\n",
      "   ---------------- ----------------------- 3.9/9.8 MB 5.1 MB/s eta 0:00:02\n",
      "   ---------------- ----------------------- 4.0/9.8 MB 5.2 MB/s eta 0:00:02\n",
      "   ------------------ --------------------- 4.5/9.8 MB 5.4 MB/s eta 0:00:01\n",
      "   ------------------- -------------------- 4.8/9.8 MB 5.3 MB/s eta 0:00:01\n",
      "   -------------------- ------------------- 5.0/9.8 MB 5.3 MB/s eta 0:00:01\n",
      "   --------------------- ------------------ 5.2/9.8 MB 5.3 MB/s eta 0:00:01\n",
      "   ---------------------- ----------------- 5.4/9.8 MB 5.2 MB/s eta 0:00:01\n",
      "   ---------------------- ----------------- 5.6/9.8 MB 5.2 MB/s eta 0:00:01\n",
      "   ----------------------- ---------------- 5.8/9.8 MB 5.1 MB/s eta 0:00:01\n",
      "   ------------------------ --------------- 6.0/9.8 MB 5.1 MB/s eta 0:00:01\n",
      "   ------------------------- -------------- 6.2/9.8 MB 5.1 MB/s eta 0:00:01\n",
      "   -------------------------- ------------- 6.4/9.8 MB 5.0 MB/s eta 0:00:01\n",
      "   -------------------------- ------------- 6.6/9.8 MB 5.0 MB/s eta 0:00:01\n",
      "   --------------------------- ------------ 6.7/9.8 MB 5.0 MB/s eta 0:00:01\n",
      "   ---------------------------- ----------- 7.0/9.8 MB 5.0 MB/s eta 0:00:01\n",
      "   ----------------------------- ---------- 7.1/9.8 MB 4.9 MB/s eta 0:00:01\n",
      "   ----------------------------- ---------- 7.3/9.8 MB 4.8 MB/s eta 0:00:01\n",
      "   ------------------------------ --------- 7.4/9.8 MB 4.8 MB/s eta 0:00:01\n",
      "   ------------------------------ --------- 7.5/9.8 MB 4.7 MB/s eta 0:00:01\n",
      "   ------------------------------- -------- 7.7/9.8 MB 4.7 MB/s eta 0:00:01\n",
      "   -------------------------------- ------- 7.9/9.8 MB 4.7 MB/s eta 0:00:01\n",
      "   -------------------------------- ------- 8.0/9.8 MB 4.6 MB/s eta 0:00:01\n",
      "   --------------------------------- ------ 8.2/9.8 MB 4.6 MB/s eta 0:00:01\n",
      "   --------------------------------- ------ 8.2/9.8 MB 4.6 MB/s eta 0:00:01\n",
      "   ---------------------------------- ----- 8.4/9.8 MB 4.5 MB/s eta 0:00:01\n",
      "   ---------------------------------- ----- 8.5/9.8 MB 4.4 MB/s eta 0:00:01\n",
      "   ----------------------------------- ---- 8.6/9.8 MB 4.4 MB/s eta 0:00:01\n",
      "   ----------------------------------- ---- 8.7/9.8 MB 4.3 MB/s eta 0:00:01\n",
      "   ------------------------------------ --- 8.9/9.8 MB 4.3 MB/s eta 0:00:01\n",
      "   ------------------------------------ --- 9.0/9.8 MB 4.3 MB/s eta 0:00:01\n",
      "   ------------------------------------ --- 9.1/9.8 MB 4.2 MB/s eta 0:00:01\n",
      "   ------------------------------------- -- 9.2/9.8 MB 4.2 MB/s eta 0:00:01\n",
      "   ------------------------------------- -- 9.3/9.8 MB 4.1 MB/s eta 0:00:01\n",
      "   -------------------------------------- - 9.4/9.8 MB 4.1 MB/s eta 0:00:01\n",
      "   -------------------------------------- - 9.5/9.8 MB 4.1 MB/s eta 0:00:01\n",
      "   -------------------------------------- - 9.5/9.8 MB 4.0 MB/s eta 0:00:01\n",
      "   ---------------------------------------  9.7/9.8 MB 4.0 MB/s eta 0:00:01\n",
      "   ---------------------------------------  9.7/9.8 MB 3.9 MB/s eta 0:00:01\n",
      "   ---------------------------------------  9.8/9.8 MB 3.9 MB/s eta 0:00:01\n",
      "   ---------------------------------------  9.8/9.8 MB 3.8 MB/s eta 0:00:01\n",
      "   ---------------------------------------- 9.8/9.8 MB 3.7 MB/s eta 0:00:00\n",
      "Downloading patsy-1.0.1-py2.py3-none-any.whl (232 kB)\n",
      "   ---------------------------------------- 0.0/232.9 kB ? eta -:--:--\n",
      "   ---------- ----------------------------- 61.4/232.9 kB 1.1 MB/s eta 0:00:01\n",
      "   ------------------- -------------------- 112.6/232.9 kB 1.3 MB/s eta 0:00:01\n",
      "   ----------------------------- ---------- 174.1/232.9 kB 1.3 MB/s eta 0:00:01\n",
      "   ---------------------------------------- 232.9/232.9 kB 1.2 MB/s eta 0:00:00\n",
      "Installing collected packages: patsy, statsmodels\n",
      "Successfully installed patsy-1.0.1 statsmodels-0.14.4\n",
      "Note: you may need to restart the kernel to use updated packages.\n"
     ]
    },
    {
     "name": "stderr",
     "output_type": "stream",
     "text": [
      "\n",
      "[notice] A new release of pip is available: 23.2.1 -> 25.0.1\n",
      "[notice] To update, run: C:\\Users\\dell\\AppData\\Local\\Programs\\Python\\Python312\\python.exe -m pip install --upgrade pip\n"
     ]
    }
   ],
   "source": [
    "pip install statsmodels"
   ]
  },
  {
   "cell_type": "code",
   "execution_count": 8,
   "id": "393d82e8",
   "metadata": {},
   "outputs": [
    {
     "name": "stdout",
     "output_type": "stream",
     "text": [
      "  Feature  VIF\n",
      "0      X1  inf\n",
      "1      X2  inf\n",
      "2      X3  5.5\n"
     ]
    },
    {
     "name": "stderr",
     "output_type": "stream",
     "text": [
      "C:\\Users\\dell\\AppData\\Local\\Programs\\Python\\Python312\\Lib\\site-packages\\statsmodels\\stats\\outliers_influence.py:197: RuntimeWarning: divide by zero encountered in scalar divide\n",
      "  vif = 1. / (1. - r_squared_i)\n"
     ]
    }
   ],
   "source": [
    "from statsmodels.stats.outliers_influence import variance_inflation_factor\n",
    "from sklearn.preprocessing import StandardScaler\n",
    "\n",
    "# Sample dataset\n",
    "data = pd.DataFrame({\n",
    "    'X1': [1, 2, 3, 4, 5, 6, 7, 8, 9, 10],  # Predictor 1\n",
    "    'X2': [2, 4, 6, 8, 10, 12, 14, 16, 18, 20],  # Predictor 2 (Highly correlated with X1)\n",
    "    'X3': [5, 7, 6, 8, 7, 9, 8, 10, 9, 11]  # Predictor 3 (Moderately correlated)\n",
    "})\n",
    "\n",
    "# Standardize the features\n",
    "scaler = StandardScaler()\n",
    "data_scaled = scaler.fit_transform(data)\n",
    "\n",
    "# Compute VIF\n",
    "vif_data = pd.DataFrame()\n",
    "vif_data[\"Feature\"] = data.columns\n",
    "vif_data[\"VIF\"] = [variance_inflation_factor(data_scaled, i) for i in range(data.shape[1])]\n",
    "\n",
    "print(vif_data)"
   ]
  },
  {
   "cell_type": "markdown",
   "id": "747f5952",
   "metadata": {},
   "source": [
    "### ✅ Interpretation:\n",
    "\n",
    "   - VIF > 10 → High multicollinearity (Remove a variable!)\n",
    "   - VIF 5-10 → Moderate multicollinearity\n",
    "   - VIF < 5 → No serious issue"
   ]
  },
  {
   "cell_type": "markdown",
   "id": "a54e6924",
   "metadata": {},
   "source": [
    "### 7. Correlation Heatmap\n",
    "\n",
    "Helps **visualize** relationships between variables."
   ]
  },
  {
   "cell_type": "code",
   "execution_count": 9,
   "id": "081db69b",
   "metadata": {},
   "outputs": [
    {
     "data": {
      "image/png": "[encoded data removed]",
      "text/plain": [
       "<Figure size 600x500 with 2 Axes>"
      ]
     },
     "metadata": {},
     "output_type": "display_data"
    }
   ],
   "source": [
    "import seaborn as sns\n",
    "import matplotlib.pyplot as plt\n",
    "\n",
    "# Compute correlation matrix\n",
    "corr_matrix = data.corr()\n",
    "\n",
    "# Plot heatmap\n",
    "plt.figure(figsize=(6,5))\n",
    "sns.heatmap(corr_matrix, annot=True, cmap='coolwarm', fmt=\".2f\")\n",
    "plt.title(\"Correlation Matrix\")\n",
    "plt.show()"
   ]
  },
  {
   "cell_type": "markdown",
   "id": "2e4fa001",
   "metadata": {},
   "source": [
    "## Variance Inflation Factor (VIF) - Parallel vs. Sequential Approach\n",
    "\n",
    "### VIF is used to detect multicollinearity in regression models.\n",
    "\n",
    "   - **Parallel Approach**: Compute VIF for all variables simultaneously.\n",
    "   - **Sequential Approach**: Remove high-VIF variables one by one and recalculate.\n",
    "\n",
    "**Python Code for VIF Calculation**"
   ]
  },
  {
   "cell_type": "code",
   "execution_count": 10,
   "id": "df0762b1",
   "metadata": {},
   "outputs": [
    {
     "name": "stdout",
     "output_type": "stream",
     "text": [
      "  Feature       VIF\n",
      "0      V1       inf\n",
      "1      V2       inf\n",
      "2      V3  2.977638\n"
     ]
    },
    {
     "name": "stderr",
     "output_type": "stream",
     "text": [
      "C:\\Users\\dell\\AppData\\Local\\Programs\\Python\\Python312\\Lib\\site-packages\\statsmodels\\stats\\outliers_influence.py:197: RuntimeWarning: divide by zero encountered in scalar divide\n",
      "  vif = 1. / (1. - r_squared_i)\n"
     ]
    }
   ],
   "source": [
    "from statsmodels.stats.outliers_influence import variance_inflation_factor\n",
    "import pandas as pd\n",
    "\n",
    "# Sample Data\n",
    "df = pd.DataFrame({\n",
    "    'V1': [1, 2, 3, 4, 5],\n",
    "    'V2': [2, 4, 6, 8, 10],\n",
    "    'V3': [5, 3, 6, 8, 2],\n",
    "    # Add more variables\n",
    "})\n",
    "\n",
    "# Compute VIF\n",
    "vif_data = pd.DataFrame()\n",
    "vif_data[\"Feature\"] = df.columns\n",
    "vif_data[\"VIF\"] = [variance_inflation_factor(df.values, i) for i in range(df.shape[1])]\n",
    "\n",
    "print(vif_data)"
   ]
  },
  {
   "cell_type": "markdown",
   "id": "86f6cc90",
   "metadata": {},
   "source": [
    "## Chi-Square Test\n",
    "\n",
    "### The Chi-Square test is used to determine relationships between categorical variables.\n",
    "\n",
    "   - **Null Hypothesis (H₀)**: No association between variables.\n",
    "   - **Alternative Hypothesis (H₁)**: Variables are associated."
   ]
  },
  {
   "cell_type": "markdown",
   "id": "7a0328f9",
   "metadata": {},
   "source": [
    "**Python Code for Chi-Square Test**"
   ]
  },
  {
   "cell_type": "code",
   "execution_count": 11,
   "id": "3289e71c",
   "metadata": {},
   "outputs": [
    {
     "name": "stdout",
     "output_type": "stream",
     "text": [
      "Chi-Square Statistic: 10.529166666666667\n",
      "P-value: 0.0011750518530845063\n",
      "Degrees of Freedom: 1\n",
      "Expected Frequencies:\n",
      " [[40. 40.]\n",
      " [30. 30.]]\n"
     ]
    }
   ],
   "source": [
    "import scipy.stats as stats\n",
    "import numpy as np\n",
    "\n",
    "# Example Contingency Table\n",
    "observed = np.array([[50, 30], [20, 40]])\n",
    "\n",
    "# Perform Chi-Square Test\n",
    "chi2, p, dof, expected = stats.chi2_contingency(observed)\n",
    "\n",
    "print(f\"Chi-Square Statistic: {chi2}\")\n",
    "print(f\"P-value: {p}\")\n",
    "print(f\"Degrees of Freedom: {dof}\")\n",
    "print(f\"Expected Frequencies:\\n {expected}\")"
   ]
  },
  {
   "cell_type": "markdown",
   "id": "223296eb",
   "metadata": {},
   "source": [
    " # Confusion Matrix and Evaluation Metrics\n",
    "\n",
    "A confusion matrix is used to evaluate classification models.\n",
    "\n",
    "| Actual \\ Predicted | Positive (1) | Negative (0) |\n",
    "|--------------------|-------------|-------------|\n",
    "| **Positive (1)**  | TP (True Positive) | FN (False Negative) |\n",
    "| **Negative (0)**  | FP (False Positive) | TN (True Negative) |\n",
    "\n",
    "## Metrics Calculation\n",
    "\n",
    "### Accuracy\n",
    "$$\n",
    "\\text{Accuracy} = \\frac{TP + TN}{TP + FN + FP + TN}\n",
    "$$\n",
    "\n",
    "Overall correctness of the model.\n",
    "\n",
    "### Recall (Sensitivity / True Positive Rate)\n",
    "$$\n",
    "\\text{Recall} = \\frac{TP}{TP + FN}\n",
    "$$\n",
    "Out of actual positive cases, how many were correctly predicted?\n",
    "\n",
    "### Precision (Positive Predictive Value)\n",
    "$$\n",
    "\\text{Precision} = \\frac{TP}{TP + FP}\n",
    "$$\n",
    "Out of all predicted positive cases, how many were actually correct?\n",
    "\n",
    "### F1-Score\n",
    "$$\n",
    "F1 = \\frac{2 \\times \\text{Precision} \\times \\text{Recall}}{\\text{Precision} + \\text{Recall}}\n",
    "$$\n",
    "Harmonic mean of Precision and Recall. Useful for imbalanced datasets.\n"
   ]
  },
  {
   "cell_type": "markdown",
   "id": "c409aa2d",
   "metadata": {},
   "source": [
    "### Python Code for Confusion Matrix & Metrics"
   ]
  },
  {
   "cell_type": "code",
   "execution_count": 12,
   "id": "1cee79aa",
   "metadata": {},
   "outputs": [
    {
     "name": "stdout",
     "output_type": "stream",
     "text": [
      "Confusion Matrix:\n",
      " [[4 1]\n",
      " [1 4]]\n",
      "Accuracy: 0.80\n",
      "Precision: 0.80\n",
      "Recall: 0.80\n",
      "F1 Score: 0.80\n"
     ]
    }
   ],
   "source": [
    "from sklearn.metrics import confusion_matrix, accuracy_score, precision_score, recall_score, f1_score\n",
    "\n",
    "# Sample true and predicted values\n",
    "y_true = [1, 0, 1, 1, 0, 1, 0, 0, 1, 0]\n",
    "y_pred = [1, 0, 1, 0, 0, 1, 1, 0, 1, 0]\n",
    "\n",
    "# Compute Confusion Matrix\n",
    "cm = confusion_matrix(y_true, y_pred)\n",
    "print(\"Confusion Matrix:\\n\", cm)\n",
    "\n",
    "# Compute Metrics\n",
    "accuracy = accuracy_score(y_true, y_pred)\n",
    "precision = precision_score(y_true, y_pred)\n",
    "recall = recall_score(y_true, y_pred)\n",
    "f1 = f1_score(y_true, y_pred)\n",
    "\n",
    "print(f\"Accuracy: {accuracy:.2f}\")\n",
    "print(f\"Precision: {precision:.2f}\")\n",
    "print(f\"Recall: {recall:.2f}\")\n",
    "print(f\"F1 Score: {f1:.2f}\")"
   ]
  },
  {
   "cell_type": "markdown",
   "id": "9419bfa6",
   "metadata": {},
   "source": [
    "## Regression Metrics: R² and RMSE\n",
    "\n",
    "Regression models are evaluated using metrics like **R² (R-Squared)** and **RMSE (Root Mean Squared Error)**.\n",
    "\n",
    "   **1.R² (Coefficient of Determination)**<br><br>\n",
    "     $$ R^2 = 1 - \\frac{SS_{res}}{SS_{tot}}\n",
    "     $$\n",
    "      \n",
    " - Measures how well independent variables explain variation in the dependent variable.\n",
    " - Value closer to 1 indicates a better fit.\n",
    "\n",
    "   **RMSE (Root Mean Squared Error)**\n",
    "   $$\n",
    "    RMSE = \\sqrt{\\frac{\\sum (y_{true} - y_{pred})^2}{n}}\n",
    "   $$\n",
    "\n",
    "\n",
    "  - Measures average error in predictions.\n",
    "  - Lower values indicate better model performance.\n"
   ]
  },
  {
   "cell_type": "markdown",
   "id": "26ae37c0",
   "metadata": {},
   "source": [
    "### Python Code for R² and RMSE"
   ]
  },
  {
   "cell_type": "code",
   "execution_count": 13,
   "id": "87d00397",
   "metadata": {},
   "outputs": [
    {
     "name": "stdout",
     "output_type": "stream",
     "text": [
      "R² Score: 0.95\n",
      "RMSE: 0.56\n"
     ]
    }
   ],
   "source": [
    "from sklearn.metrics import r2_score, mean_squared_error\n",
    "import numpy as np\n",
    "\n",
    "# Sample true and predicted values\n",
    "y_true = np.array([3, -0.5, 2, 7, 4.2])\n",
    "y_pred = np.array([2.5, 0.0, 2, 8, 4.5])\n",
    "\n",
    "# Compute R² and RMSE\n",
    "r2 = r2_score(y_true, y_pred)\n",
    "rmse = np.sqrt(mean_squared_error(y_true, y_pred))\n",
    "\n",
    "print(f\"R² Score: {r2:.2f}\")\n",
    "print(f\"RMSE: {rmse:.2f}\")"
   ]
  },
  {
   "cell_type": "code",
   "execution_count": null,
   "id": "41c526eb",
   "metadata": {},
   "outputs": [],
   "source": []
  },
  {
   "cell_type": "code",
   "execution_count": null,
   "id": "0d7744f2-001f-4318-8340-4326c0292e46",
   "metadata": {},
   "outputs": [],
   "source": []
  },
  {
   "cell_type": "code",
   "execution_count": null,
   "id": "528a9007-a9c6-4f4b-a779-dfbe415c8a6e",
   "metadata": {},
   "outputs": [],
   "source": []
  }
 ],
 "metadata": {
  "kernelspec": {
   "display_name": "Python 3 (ipykernel)",
   "language": "python",
   "name": "python3"
  },
  "language_info": {
   "codemirror_mode": {
    "name": "ipython",
    "version": 3
   },
   "file_extension": ".py",
   "mimetype": "text/x-python",
   "name": "python",
   "nbconvert_exporter": "python",
   "pygments_lexer": "ipython3",
   "version": "3.12.7"
  }
 },
 "nbformat": 4,
 "nbformat_minor": 5
}
